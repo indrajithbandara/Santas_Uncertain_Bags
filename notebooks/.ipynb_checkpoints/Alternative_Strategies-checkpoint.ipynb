{
 "cells": [
  {
   "cell_type": "code",
   "execution_count": 1,
   "metadata": {
    "collapsed": true
   },
   "outputs": [],
   "source": [
    "%matplotlib inline\n",
    "\n",
    "import pandas as pd\n",
    "import numpy as np\n",
    "import scipy as sp\n",
    "import math\n",
    "\n",
    "import matplotlib.pyplot as plt\n",
    "\n",
    "pd.set_option('display.max_columns', None)\n",
    "\n",
    "import seaborn as sns\n",
    "import warnings\n",
    "\n",
    "from operator import add\n",
    "from functools import reduce\n",
    "\n",
    "warnings.filterwarnings('ignore')\n",
    "np.random.seed(2017)\n",
    "\n",
    "%run ../src/stochastic_helpers.py"
   ]
  },
  {
   "cell_type": "markdown",
   "metadata": {},
   "source": [
    "### Evaluation Function"
   ]
  },
  {
   "cell_type": "code",
   "execution_count": 8,
   "metadata": {
    "collapsed": true
   },
   "outputs": [],
   "source": [
    "def evaluate_bag(bag, n_samples=10000):\n",
    "    \"\"\"\n",
    "    Estimates the weight of a bag with a certain configuration\n",
    "    It would any samples where total weight went beyond 50 to 0,\n",
    "    so that those bags would be penalized eventually.\n",
    "    \n",
    "    Optimization: Instead of generate all samples, generate n_samples / 1000\n",
    "    and see if the samples show low variance then stop otherwise continue for\n",
    "    whole number of samples initially asked for.\n",
    "    \"\"\"\n",
    "    \n",
    "    batch_samples = int(n_samples / 1000)\n",
    "    \n",
    "    bag_weight_sampler = create_bag_weight_sampler(bag)\n",
    "    bag_weight_samples = bag_weight_sampler(batch_samples)\n",
    "    bag_weight_samples[bag_weight_samples > 50] = 0\n",
    "    \n",
    "    mean_weight_bag = np.mean(bag_weight_samples)\n",
    "    std_weight_bag  = np.std(bag_weight_samples)\n",
    "    \n",
    "    if mean_weight_bag > 28. and std_weight_bag < 7.:\n",
    "        # pretty sure about the estimated result\n",
    "        return mean_weight_bag\n",
    "    elif mean_weight_bag > 20. and std_weight_bag > 7.:\n",
    "        # not very sure about the result may need more iterations\n",
    "        remaining_samples = n_samples - batch_samples\n",
    "        bag_weight_samples = bag_weight_sampler(remaining_samples)\n",
    "        bag_weight_samples[bag_weight_samples > 50] = 0\n",
    "    \n",
    "        mean_weight_bag = np.mean(bag_weight_samples)\n",
    "        \n",
    "        return mean_weight_bag\n",
    "    else:\n",
    "        # no chance\n",
    "        return mean_weight_bag"
   ]
  },
  {
   "cell_type": "code",
   "execution_count": 3,
   "metadata": {
    "collapsed": true
   },
   "outputs": [],
   "source": [
    "max_item_possible = [26, 3, 5, 25, 3, 10, 36, 11, 5]"
   ]
  },
  {
   "cell_type": "markdown",
   "metadata": {},
   "source": [
    "### Genetic Algorithm ( Heuristic )"
   ]
  },
  {
   "cell_type": "code",
   "execution_count": 10,
   "metadata": {
    "collapsed": true
   },
   "outputs": [],
   "source": [
    "def individual(max_item_possible):\n",
    "    'Create a member of the population.'\n",
    "    length = len(max_item_possible)\n",
    "    \n",
    "    return np.array([np.random.randint(0, member + 1) for member in max_item_possible])\n",
    "\n",
    "def population(count, max_item_possible):\n",
    "    \"\"\"\n",
    "    Create a number of individuals ( i.e population)\n",
    "    \"\"\"\n",
    "    \n",
    "    return np.array([individual(max_item_possible) for i in range(count)])\n",
    "\n",
    "def fitness(individual, weight_constraint):\n",
    "    \"\"\"\n",
    "    Determines the fitness of the individual, lower is better.\n",
    "    \"\"\"\n",
    "    \n",
    "    estimated_weight = evaluate_bag(individual)\n",
    "    return weight_constraint - estimated_weight\n",
    "\n",
    "def grade(pop, weight_constraint):\n",
    "    'Find average fitness for a population.'\n",
    "    summed = reduce(add, (fitness(x, weight_constraint) for x in pop), 0)\n",
    "    return summed / len(pop)"
   ]
  },
  {
   "cell_type": "code",
   "execution_count": 22,
   "metadata": {
    "collapsed": true
   },
   "outputs": [],
   "source": [
    "def evolve(pop, weight_constraint, max_item_possible, retain=0.2, random_select=0.05, mutate=0.01):\n",
    "    graded = [ (fitness(x, weight_constraint), x) for x in pop]\n",
    "    \n",
    "    graded = [ x[1] for x in sorted(graded)]\n",
    "    retain_length = int(len(graded)*retain)\n",
    "    parents = graded[:retain_length]\n",
    "\n",
    "    # randomly add other individuals to promote genetic diversity\n",
    "    for individual in graded[retain_length:]:\n",
    "        if random_select > np.random.random():\n",
    "            parents.append(individual)\n",
    "\n",
    "    # mutate some individuals\n",
    "    for individual in parents:\n",
    "        if mutate > np.random.random():\n",
    "            pos_to_mutate = np.random.randint(0, len(individual)-1)\n",
    "            # this mutation is not ideal, because it\n",
    "            # restricts the range of possible values,\n",
    "            # but the function is unaware of the min/max\n",
    "            # values used to create the individuals,\n",
    "            individual[pos_to_mutate] = np.random.randint(0, max_item_possible[pos_to_mutate] + 1)\n",
    "\n",
    "    # crossover parents to create children\n",
    "    parents_length = len(parents)\n",
    "    desired_length = len(pop) - parents_length\n",
    "    children = []\n",
    "    \n",
    "    parents  = list(parents) # convert numpy array to list\n",
    "    \n",
    "    while len(children) < desired_length:\n",
    "        male = np.random.randint(0, parents_length-1)\n",
    "        female = np.random.randint(0, parents_length-1)\n",
    "        \n",
    "        if male != female:\n",
    "            male_individual = list(parents[male])\n",
    "            female_individual = list(parents[female])\n",
    "        \n",
    "            half = int(len(male_individual) / 2)\n",
    "            child = male_individual[:half] + female_individual[half:]\n",
    "            children.append(child)\n",
    "\n",
    "#     parents.extend(children)\n",
    "    return np.array(parents) # convert it back to numpy array"
   ]
  },
  {
   "cell_type": "markdown",
   "metadata": {},
   "source": [
    "** Generate solutions **"
   ]
  },
  {
   "cell_type": "code",
   "execution_count": 24,
   "metadata": {
    "collapsed": false
   },
   "outputs": [],
   "source": [
    "weight_constraint = 50\n",
    "runs = 10\n",
    "modified_max_item_possible = list(map(np.floor, np.array(max_item_possible) / 5.))\n",
    "modified_max_item_possible[1] = 1.0\n",
    "modified_max_item_possible[4] = 1.0\n",
    "\n",
    "pop = population(runs, modified_max_item_possible)"
   ]
  },
  {
   "cell_type": "markdown",
   "metadata": {},
   "source": [
    "** Computational Effort **"
   ]
  },
  {
   "cell_type": "code",
   "execution_count": 25,
   "metadata": {
    "collapsed": false
   },
   "outputs": [],
   "source": [
    "def get_cumulative_prob(pop, weight_constraint, threshold):\n",
    "    results = np.array([grade(pop[i:i+1], weight_constraint) for i in range(len(pop))])\n",
    "    return np.sum(results > threshold) / len(results)\n",
    "\n",
    "def get_computation_effort(runs, cum_prob, z=0.99):\n",
    "    return runs * (np.log(1 - z) / np.log(1 - cum_prob))"
   ]
  },
  {
   "cell_type": "code",
   "execution_count": 26,
   "metadata": {
    "collapsed": false
   },
   "outputs": [
    {
     "name": "stdout",
     "output_type": "stream",
     "text": [
      "cumulative probability  0.2\n",
      "Num evaluations needed   206.37702317\n"
     ]
    }
   ],
   "source": [
    "cum_prob = get_cumulative_prob(pop, weight_constraint, 38.)\n",
    "print('cumulative probability ', cum_prob)\n",
    "num_evaluations_needed = get_computation_effort(runs, cum_prob)\n",
    "print('Num evaluations needed  ', num_evaluations_needed)"
   ]
  },
  {
   "cell_type": "markdown",
   "metadata": {
    "collapsed": false
   },
   "source": [
    "** This would mean that it would take 539518 evaluations to say that 99% of the time that estimated weight of the bag would be 38. **"
   ]
  },
  {
   "cell_type": "code",
   "execution_count": null,
   "metadata": {
    "collapsed": false
   },
   "outputs": [
    {
     "name": "stdout",
     "output_type": "stream",
     "text": [
      "graded  [(31.213689573357179, array([0, 0, 0, 2, 0, 0, 0, 1, 1])), (46.230751948020014, array([3, 0, 0, 3, 1, 2, 7, 1, 1])), (23.69908690053747, array([0, 0, 1, 1, 0, 1, 7, 0, 0])), (33.229770066060567, array([3, 0, 1, 2, 0, 1, 4, 1, 1])), (14.794250486717686, array([0, 0, 1, 0, 0, 2, 0, 1, 1])), (50.0, array([5, 1, 0, 3, 1, 0, 6, 1, 1])), (18.974698376114663, array([0, 0, 0, 3, 0, 1, 7, 2, 0])), (23.126133518754944, array([1, 1, 0, 3, 0, 2, 1, 1, 0])), (42.266421755207901, array([0, 1, 1, 0, 1, 0, 1, 0, 1])), (11.778696883790971, array([2, 0, 1, 3, 0, 1, 3, 2, 0]))]\n",
      "sort graded array  [(11.778696883790971, array([2, 0, 1, 3, 0, 1, 3, 2, 0])), (14.794250486717686, array([0, 0, 1, 0, 0, 2, 0, 1, 1])), (18.974698376114663, array([0, 0, 0, 3, 0, 1, 7, 2, 0])), (23.126133518754944, array([1, 1, 0, 3, 0, 2, 1, 1, 0])), (23.69908690053747, array([0, 0, 1, 1, 0, 1, 7, 0, 0])), (31.213689573357179, array([0, 0, 0, 2, 0, 0, 0, 1, 1])), (33.229770066060567, array([3, 0, 1, 2, 0, 1, 4, 1, 1])), (42.266421755207901, array([0, 1, 1, 0, 1, 0, 1, 0, 1])), (46.230751948020014, array([3, 0, 0, 3, 1, 2, 7, 1, 1])), (50.0, array([5, 1, 0, 3, 1, 0, 6, 1, 1]))]\n"
     ]
    }
   ],
   "source": [
    "evolved_pop = evolve(pop.copy(), weight_constraint, \\\n",
    "                     modified_max_item_possible, retain=0.2,\\\n",
    "                     random_select=0.01, mutate=0.01)"
   ]
  },
  {
   "cell_type": "markdown",
   "metadata": {
    "collapsed": true
   },
   "source": [
    "** Let's find out the performace of the bag **"
   ]
  },
  {
   "cell_type": "code",
   "execution_count": 154,
   "metadata": {
    "collapsed": false
   },
   "outputs": [
    {
     "data": {
      "image/png": "[encoded data removed]",
      "text/plain": [
       "<matplotlib.figure.Figure at 0x7fcba296cba8>"
      ]
     },
     "metadata": {},
     "output_type": "display_data"
    }
   ],
   "source": [
    "perf = np.array(list(map(evaluate_bag, evolved_pop)))\n",
    "plt.scatter(np.arange(0, len(evolved_pop)), perf);"
   ]
  },
  {
   "cell_type": "code",
   "execution_count": 158,
   "metadata": {
    "collapsed": true
   },
   "outputs": [],
   "source": [
    "num_gifts_available = {\n",
    "    \"horse\": 1000,\n",
    "    \"ball\": 1100,\n",
    "    \"bike\": 500,\n",
    "    \"train\": 1000,\n",
    "    \"book\": 1200,\n",
    "    \"doll\": 1000,\n",
    "    \"blocks\": 1000,\n",
    "    \"gloves\": 200,\n",
    "    \"coal\": 166\n",
    "}\n",
    "\n",
    "available_count = np.array([num_gifts_available[gift_type] for gift_type in gift_types])"
   ]
  },
  {
   "cell_type": "code",
   "execution_count": 156,
   "metadata": {
    "collapsed": true
   },
   "outputs": [],
   "source": [
    "def repeat_solutions(df, available_count):\n",
    "    solution_space = []\n",
    "    for i in range(len(df)):\n",
    "        mask = (df.iloc[i] > 0).values\n",
    "        repeat_count = np.min((available_count[mask] / df.iloc[i][mask]).map(np.floor))\n",
    "        solution_space.append(np.repeat([df.iloc[i].values], repeat_count, axis=0))\n",
    "    \n",
    "    return np.vstack(solution_space)"
   ]
  },
  {
   "cell_type": "code",
   "execution_count": 169,
   "metadata": {
    "collapsed": false
   },
   "outputs": [],
   "source": [
    "# solutions = generate_solutions(max_item_count)\n",
    "df = pd.DataFrame(evolved_pop)\n",
    "df = df.drop_duplicates()\n",
    "# sns.distplot(df.apply(evaluate_bag, axis=1));"
   ]
  },
  {
   "cell_type": "code",
   "execution_count": 170,
   "metadata": {
    "collapsed": true
   },
   "outputs": [],
   "source": [
    "# generate the total search space based on evaluation function\n",
    "solution_space = repeat_solutions(df, available_count)"
   ]
  },
  {
   "cell_type": "code",
   "execution_count": 160,
   "metadata": {
    "collapsed": true
   },
   "outputs": [],
   "source": [
    "def pack_linprog(bags, distributions, min_variance, max_bags=1000):\n",
    "    # objective: c.T * x -> min\n",
    "    c = - distributions[:,0] # optimize sum of expected bag utilities\n",
    "    \n",
    "    # constraint: A_ub * x <= b_ub\n",
    "    A_ub = bags.T # don't use more gifts than available\n",
    "    b_ub = np.array([num_gifts_available[gift] for gift in gift_types])\n",
    "    \n",
    "    A_ub = np.vstack([A_ub, np.ones(A_ub.shape[1])]) # pack at most max_bags gifts\n",
    "    b_ub = np.hstack([b_ub, [max_bags]])\n",
    "    \n",
    "    if min_variance is not None:\n",
    "        A_ub = np.vstack([A_ub, -distributions[:,1]]) # require minimum variance\n",
    "        b_ub = np.hstack([b_ub, [-min_variance]])\n",
    "    \n",
    "    result = sp.optimize.linprog(c, A_ub=A_ub, b_ub=b_ub)\n",
    "    if result[\"success\"] == False:\n",
    "        return [], True\n",
    "    else:\n",
    "        return result[\"x\"].astype('int64'), False\n",
    "\n",
    "\n",
    "def pack_bags(bags, distributions, min_variance=None):\n",
    "    max_bags = 1000\n",
    "    bag_quantities, infeasible = pack_linprog(bags, distributions, min_variance=min_variance)\n",
    "    while np.sum(bag_quantities) < 1000:\n",
    "        max_bags += 1\n",
    "        bag_quantities, infeasible = pack_linprog(bags, distributions, min_variance=min_variance, max_bags=max_bags)\n",
    "        if max_bags > 1015:\n",
    "            print(\"WARNING: not getting 1000 bags\")\n",
    "            break\n",
    "        if infeasible:\n",
    "            continue\n",
    "    \n",
    "    if infeasible:\n",
    "        print(\"infeasible\")\n",
    "        return [], [], []\n",
    "    \n",
    "    chosen_bag_idx = np.where(bag_quantities)[0]\n",
    "    chosen_bags = bags[chosen_bag_idx]\n",
    "    chosen_distributions = distributions[chosen_bag_idx]\n",
    "    chosen_quantities = bag_quantities[chosen_bag_idx]\n",
    "    \n",
    "    while np.sum(chosen_quantities) > 1000:\n",
    "        idx = np.random.randint(len(chosen_quantities))\n",
    "        chosen_quantities[idx] = max (chosen_quantities[idx]-1, 0)\n",
    "    \n",
    "    score_distribution = np.dot(chosen_quantities, chosen_distributions)\n",
    "    print(\"{} bags - score distribution: mean = {:.2f} | var = {:.2f}\"\n",
    "          .format(np.sum(chosen_quantities), score_distribution[0], score_distribution[1]))\n",
    "    \n",
    "    return chosen_bags, chosen_distributions, chosen_quantities"
   ]
  },
  {
   "cell_type": "code",
   "execution_count": 171,
   "metadata": {
    "collapsed": false
   },
   "outputs": [
    {
     "name": "stdout",
     "output_type": "stream",
     "text": [
      "0.0000\n",
      "0.0684\n",
      "0.1369\n",
      "0.2053\n",
      "0.2737\n",
      "0.3421\n",
      "0.4106\n",
      "0.4790\n",
      "0.5474\n",
      "0.6159\n",
      "0.6843\n",
      "0.7527\n",
      "0.8211\n",
      "0.8896\n",
      "0.9580\n",
      "\n",
      "1000 bags - score distribution: mean = 35863.06 | var = 62479.11\n"
     ]
    }
   ],
   "source": [
    "bag_utility_distributions = get_bag_utility_distributions(solution_space)\n",
    "packed_bags, packed_distributions, packed_quantities \\\n",
    "    = pack_bags(solution_space, bag_utility_distributions, min_variance=None)"
   ]
  },
  {
   "cell_type": "code",
   "execution_count": 172,
   "metadata": {
    "collapsed": true
   },
   "outputs": [],
   "source": [
    "def create_submissions(bags, quantities, num_submissions=5):\n",
    "    def create_stock(n):\n",
    "        stock = { gift: list(map(lambda id: \"{}_{}\".format(gift, id) ,np.arange(num_gifts_available[gift]))) for gift in gift_types }\n",
    "        return shuffle(stock, n)\n",
    "    \n",
    "    def shuffle(stock, seed):\n",
    "        np.random.seed(seed)\n",
    "        for gift in stock.keys():\n",
    "            np.random.shuffle(stock[gift])\n",
    "        return stock\n",
    "    \n",
    "    def generate_submission(n):\n",
    "        from datetime import datetime\n",
    "        curr_time_str = datetime.today().strftime(\"%B %d, %Y %H:%M:%S\")\n",
    "        \n",
    "        stock = create_stock(n)\n",
    "        with open(\"../submissions/submission_without_coal_{}_{}.csv\".format(curr_time_str, n), 'w+') as submission_file:\n",
    "            submission_file.write('Gifts\\n')\n",
    "            for i in range(len(bags)):\n",
    "                for quantity in range(quantities[i]):\n",
    "                    current_gifts = bags[i]\n",
    "                    for gift_idx, gift_quantity in enumerate(current_gifts[:len(gift_types)]):\n",
    "                        gift_name = gift_types[gift_idx]\n",
    "                        for j in range(int(gift_quantity)):\n",
    "                            submission_file.write(\"{} \".format(stock[gift_name].pop()))\n",
    "                    submission_file.write(\"\\n\")\n",
    "    \n",
    "    for n in range(num_submissions):\n",
    "        generate_submission(n)"
   ]
  },
  {
   "cell_type": "code",
   "execution_count": 173,
   "metadata": {
    "collapsed": true
   },
   "outputs": [],
   "source": [
    "create_submissions(packed_bags, packed_quantities)"
   ]
  }
 ],
 "metadata": {
  "anaconda-cloud": {},
  "kernelspec": {
   "display_name": "Python [Root]",
   "language": "python",
   "name": "Python [Root]"
  },
  "language_info": {
   "codemirror_mode": {
    "name": "ipython",
    "version": 3
   },
   "file_extension": ".py",
   "mimetype": "text/x-python",
   "name": "python",
   "nbconvert_exporter": "python",
   "pygments_lexer": "ipython3",
   "version": "3.5.2"
  }
 },
 "nbformat": 4,
 "nbformat_minor": 0
}
