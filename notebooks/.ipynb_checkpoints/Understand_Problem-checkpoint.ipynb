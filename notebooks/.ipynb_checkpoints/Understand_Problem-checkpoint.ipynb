{
 "cells": [
  {
   "cell_type": "code",
   "execution_count": 27,
   "metadata": {
    "collapsed": true
   },
   "outputs": [],
   "source": [
    "%matplotlib inline\n",
    "\n",
    "import pandas as pd\n",
    "import numpy as np\n",
    "import scipy as sp\n",
    "\n",
    "import matplotlib.pyplot as plt\n",
    "\n",
    "pd.set_option('display.max_columns', None)\n",
    "\n",
    "import seaborn as sns\n",
    "import warnings\n",
    "\n",
    "warnings.filterwarnings('ignore')\n",
    "\n",
    "%run ../src/santa_helper.py"
   ]
  },
  {
   "cell_type": "code",
   "execution_count": 5,
   "metadata": {
    "collapsed": false
   },
   "outputs": [
    {
     "data": {
      "text/html": [
       "<div>\n",
       "<table border=\"1\" class=\"dataframe\">\n",
       "  <thead>\n",
       "    <tr style=\"text-align: right;\">\n",
       "      <th></th>\n",
       "      <th>GiftId</th>\n",
       "    </tr>\n",
       "  </thead>\n",
       "  <tbody>\n",
       "    <tr>\n",
       "      <th>0</th>\n",
       "      <td>horse_0</td>\n",
       "    </tr>\n",
       "    <tr>\n",
       "      <th>1</th>\n",
       "      <td>horse_1</td>\n",
       "    </tr>\n",
       "  </tbody>\n",
       "</table>\n",
       "</div>"
      ],
      "text/plain": [
       "    GiftId\n",
       "0  horse_0\n",
       "1  horse_1"
      ]
     },
     "execution_count": 5,
     "metadata": {},
     "output_type": "execute_result"
    }
   ],
   "source": [
    "# load information about the gifts\n",
    "gifts = pd.read_csv('../data/gifts.csv'); gifts.head(2)"
   ]
  },
  {
   "cell_type": "markdown",
   "metadata": {},
   "source": [
    "```\n",
    "Problem Statement\n",
    "-----------------\n",
    "\n",
    "Can you fill multiple bags with uncertain items ?\n",
    "\n",
    "Data\n",
    "----\n",
    "\n",
    "Q) How many bags are to be filled ?\n",
    "- 1000\n",
    "\n",
    "Q) How many types of gifts are available ?\n",
    "- 9\n",
    "\n",
    "Q) How many items are available ?\n",
    "- 7164\n",
    "\n",
    "Constraints\n",
    "-----------\n",
    "\n",
    "- No bag can contain more than 50 pounds of gifts.\n",
    "- No gift may be used more than once.\n",
    "- Every bag must have 3 or more gifts.\n",
    "\n",
    "```"
   ]
  },
  {
   "cell_type": "markdown",
   "metadata": {},
   "source": [
    "```\n",
    "Q) Have you solved any related problem before ?\n",
    "- This is an example of combinatorial optimization problem, and statement is somewhat similar to the 0/1 knapsack problem where every item has weight and value associated with it and you want to maximize the total value in the bag without carrying more than the maximum weight specified.\n",
    "  \n",
    "  But in this problem, we have to carry maximum possible weight keeping in mind that we atleast fill 3 items in the bag.\n",
    "\n",
    "Q) Can  we restate the problem ?\n",
    "- Choose the set of items that should be placed in the bags such that we carry maximum possible weight.\n",
    "\n",
    "Notes:\n",
    "\n",
    "- Original may be too hard to solve, let's try to solve an auxiliary problem which is not far off from the original problem.\n",
    "\n",
    "- Let's try to create an auxiliary problem\n",
    "  * There are different ways of creating an auxiliary problem\n",
    "    1) Either we change the data.\n",
    "    2) Either we change the constraints.\n",
    "    3) Or change both\n",
    "    \n",
    "  Auxiliary Problem 1)\n",
    "  --------------------\n",
    "  \n",
    "  1) There is only a single bag to be filled.\n",
    "  2) There are only n items available\n",
    "  3) There is single category of gift item available.\n",
    "  \n",
    "  Constraint\n",
    "  ----------\n",
    "  \n",
    "  1) Total weight should be less than 50\n",
    "  2) Carry atleast 3 items.\n",
    "  \n",
    "  Let's try to solve this problem.\n",
    "  \n",
    "  Example: items  = [3, 2, 1, 5, 23. 10, 36, 4, 11]\n",
    "  \n",
    "  Solution: (36, 11, 3) or (23, 11, 10, 5, 1) or (36, 11, 2, 1) ...\n",
    "  \n",
    "  As you can see there are many possible solutions for this problem, we will have to generate all of them.\n",
    "```"
   ]
  },
  {
   "cell_type": "code",
   "execution_count": 5,
   "metadata": {
    "collapsed": true
   },
   "outputs": [],
   "source": [
    "def get_weight(candidate, items):\n",
    "    return np.sum([items[c] for c in candidate])\n",
    "\n",
    "def backtrack(current_index, items, solutions, candidate):\n",
    "    \"\"\"\n",
    "    If the weight of the candidate exceeds the maximum possible, then we should discard\n",
    "    that candidate\n",
    "    \"\"\"\n",
    "    if get_weight(candidate, items) > 50:\n",
    "        return\n",
    "    \n",
    "    \"\"\"\n",
    "    Only those candidates which have atleast 3 items and total weight is less than\n",
    "    maximum possible weight allowed.\n",
    "    \"\"\"\n",
    "    \n",
    "    if get_weight(candidate, items) <= 50 and len(candidate) >= 3:\n",
    "        solutions.append(candidate)\n",
    "    else:\n",
    "        for i in range(current_index, len(items)):\n",
    "            backtrack(i + 1, items, solutions, candidate + [i])\n",
    "        \n",
    "        return solutions\n",
    "\n",
    "def print_solutions(solutions, items, plot=False, verbose=True):\n",
    "    if verbose:\n",
    "        print('Possible solutions are:\\n\\n')\n",
    "    \n",
    "    weights = []\n",
    "    \n",
    "    for sol in solutions:\n",
    "        weight = get_weight(sol, items)\n",
    "        weights.append(weight)\n",
    "        \n",
    "        if verbose:\n",
    "            print('%s - %d'%(sol, weight))\n",
    "            print('-'*75)\n",
    "    \n",
    "    if plot:\n",
    "        plt.hist(weights) # plot the total weight distribution\n",
    "        plt.xlim([0, 50])\n",
    "        plt.grid()\n",
    "        plt.locator_params(nbins=5);\n",
    "        \n",
    "def solve(items):\n",
    "    # sort items in descending order\n",
    "    solutions = backtrack(0, items, [], [])\n",
    "    print_solutions(solutions, items, True, False)\n",
    "    return solutions"
   ]
  },
  {
   "cell_type": "code",
   "execution_count": 7,
   "metadata": {
    "collapsed": true
   },
   "outputs": [],
   "source": [
    "def generate_items(n=5):\n",
    "    \"\"\"\n",
    "    Generate weights based on a probability distribution.\n",
    "    \"\"\"\n",
    "    return np.random.normal(loc=5.0, scale=2.0, size=n)\n",
    "#     return 47 * np.random.beta(0.5, 0.5, n)"
   ]
  },
  {
   "cell_type": "code",
   "execution_count": 17,
   "metadata": {
    "collapsed": false
   },
   "outputs": [
    {
     "name": "stdout",
     "output_type": "stream",
     "text": [
      "Number of solutions  195\n"
     ]
    },
    {
     "data": {
      "image/png": "[encoded data removed]",
      "text/plain": [
       "<matplotlib.figure.Figure at 0x7f5f930b92e8>"
      ]
     },
     "metadata": {},
     "output_type": "display_data"
    }
   ],
   "source": [
    "items = generate_items(n=15)\n",
    "solutions = solve(items)\n",
    "print('Number of solutions ', len(solutions))"
   ]
  },
  {
   "cell_type": "markdown",
   "metadata": {
    "collapsed": true
   },
   "source": [
    "```\n",
    "Auxiliary Problem 2:\n",
    "\n",
    "1) There are multiple bags to be filled.\n",
    "2) There are only n items available.\n",
    "3) There is only type of category of item available. ( This will not matter as of now )\n",
    "\n",
    "Constraints\n",
    "\n",
    "1) Total weight must be less than 50.\n",
    "2) There must be atleast 3 items in the bag.\n",
    "3) No item can be used more than once.\n",
    "\n",
    "Example: [10, 12, 22, 3, 40, 30, 27, 28, 11]\n",
    "\n",
    "Sort the items for greedy search\n",
    "[40, 30, 28, 27, 22, 12, 11, 10, 3]\n",
    "\n",
    "bag1: [30, 12, 3]  -> 45\n",
    "bag2: [28, 11, 10] -> 49\n",
    "\n",
    "Question: Are there multiple ways to fill these bags after satisfying all of the constraints ?\n",
    "Answer:  - Yes that is definitely possible.\n",
    "\n",
    "Question: What is the configuration that would give us the maximum possible weights across bags ?\n",
    " - Is there only one such kind of configuration ?\n",
    " Answer: Not sure \n",
    "\n",
    "```"
   ]
  },
  {
   "cell_type": "code",
   "execution_count": 6,
   "metadata": {
    "collapsed": false
   },
   "outputs": [
    {
     "name": "stdout",
     "output_type": "stream",
     "text": [
      "Number of solutions  55\n"
     ]
    },
    {
     "data": {
      "image/png": "[encoded data removed]",
      "text/plain": [
       "<matplotlib.figure.Figure at 0x7fb8894d2828>"
      ]
     },
     "metadata": {},
     "output_type": "display_data"
    }
   ],
   "source": [
    "# using the backtracking solution and generating all possible solutions.\n",
    "items     = generate_items(n=14)\n",
    "solutions = solve(items)\n",
    "print('Number of solutions ', len(solutions))"
   ]
  },
  {
   "cell_type": "markdown",
   "metadata": {},
   "source": [
    "** It will not be feasible to first all possible solutions and then choosing solutions which do not have any item in common among them. **"
   ]
  },
  {
   "cell_type": "code",
   "execution_count": 1,
   "metadata": {
    "collapsed": true
   },
   "outputs": [],
   "source": [
    "def sort_solutions(solutions):\n",
    "    \"\"\"\n",
    "    Sort the solutions based on their weights\n",
    "    \"\"\"\n",
    "    return sorted(solutions, key=lambda x: get_weight(x, items), reverse=True)\n",
    "\n",
    "def pick_item_by_index(indices):\n",
    "    \"\"\"\n",
    "    Given indices of the items return the items for corresponding index.\n",
    "    \"\"\"\n",
    "    return [items[index] for index in indices]"
   ]
  },
  {
   "cell_type": "markdown",
   "metadata": {
    "collapsed": false
   },
   "source": [
    "```\n",
    "In case of multi-bag problem, we will have to keep track of all the items that have been used, so I think backtracking solution will not work.\n",
    "\n",
    "The current strategy that we are using to sort the items is based on weights of the individual items.\n",
    "```"
   ]
  },
  {
   "cell_type": "code",
   "execution_count": 47,
   "metadata": {
    "collapsed": true
   },
   "outputs": [],
   "source": [
    "def bag_solution(sorted_items, is_available):\n",
    "    \n",
    "    for i in range(len(sorted_items)):\n",
    "        if not is_available[i]:\n",
    "            continue\n",
    "        \n",
    "        possible_solution = [i]\n",
    "        current_weight    = sorted_items[i]\n",
    "        \n",
    "        for j in range(i + 1, len(sorted_items)):\n",
    "            if is_available[j] and current_weight + sorted_items[j] <= 50:\n",
    "                possible_solution.append(j)\n",
    "                current_weight += sorted_items[j]\n",
    "        \n",
    "        if len(possible_solution) >= 3:\n",
    "            return possible_solution\n",
    "    \n",
    "    return [] # no solution could be found\n",
    "\n",
    "def multi_bag_solution(gifts, n_bags, sort_function, verbose=False):\n",
    "    \"\"\"\n",
    "    Notes:\n",
    "    Items should be a copy of the original items as this we would get modified.\n",
    "    \"\"\"\n",
    "    \n",
    "    def mark_unavailable(is_available, solution_indices):\n",
    "        for idx in solution_indices:\n",
    "            is_available[idx] = False\n",
    "        \n",
    "        return is_available\n",
    "        \n",
    "    def print_solution(weights, indices):\n",
    "        if len(indices) == 0:\n",
    "            print('No solution')\n",
    "        else:\n",
    "            print(', '.join([str(weights[idx]) for idx in indices]))\n",
    "        \n",
    "    sorted_gifts = sort_function(gifts)\n",
    "    configuration = []\n",
    "    is_available  = [True] * len(gifts)\n",
    "    \n",
    "    for bag_index in range(n_bags):\n",
    "        solution_indices = bag_solution(sorted_gifts['weights'], is_available) # this can return an empty list.\n",
    "        \n",
    "        if verbose:\n",
    "            print_solution(sorted_gifts['weights'], solution_indices)\n",
    "        \n",
    "        configuration.append(solution_indices)\n",
    "        is_available    = mark_unavailable(is_available, solution_indices)\n",
    "        \n",
    "    return configuration"
   ]
  },
  {
   "cell_type": "code",
   "execution_count": 3,
   "metadata": {
    "collapsed": true
   },
   "outputs": [],
   "source": [
    "def can_accept(configuration):\n",
    "    \"\"\"\n",
    "    Checks whether all of the bags were filled or not.\n",
    "    \"\"\"\n",
    "    for config in configuration:\n",
    "        if len(config) == 0:\n",
    "            return False\n",
    "    return True"
   ]
  },
  {
   "cell_type": "code",
   "execution_count": 13,
   "metadata": {
    "collapsed": false
   },
   "outputs": [],
   "source": [
    "items         = generate_items(n=7166)\n",
    "configuration = multi_bag_solution(items.copy(), 1000, False)"
   ]
  },
  {
   "cell_type": "markdown",
   "metadata": {},
   "source": [
    "```\n",
    "Apply this greedy approach to the gift selection problem.\n",
    "```"
   ]
  },
  {
   "cell_type": "code",
   "execution_count": 40,
   "metadata": {
    "collapsed": true
   },
   "outputs": [],
   "source": [
    "gifts_with_weights = generate_weights(gifts.copy())"
   ]
  },
  {
   "cell_type": "code",
   "execution_count": 69,
   "metadata": {
    "collapsed": false
   },
   "outputs": [],
   "source": [
    "def std_weights(gifts_with_weights):\n",
    "    \"\"\"\n",
    "    Sort the gifts in ascending order of the sample std and descending order of the sample value\n",
    "    of the distribution they came from.\n",
    "    \"\"\"\n",
    "    return gifts_with_weights.sort_values(by=['std', 'weights'], ascending=[True, False])\n",
    "\n",
    "def weights_std(gifts_with_weights):\n",
    "    return gifts_with_weights.sort_values(by=['weights', 'std'], ascending=[True, False])"
   ]
  },
  {
   "cell_type": "code",
   "execution_count": 53,
   "metadata": {
    "collapsed": false
   },
   "outputs": [],
   "source": [
    "def index_to_name(solution, names):\n",
    "    solution_with_names = []\n",
    "    \n",
    "    for sol in solution:\n",
    "        solution_with_names.append(list(map(lambda x: names[x], sol)))\n",
    "    \n",
    "    return solution_with_names"
   ]
  },
  {
   "cell_type": "code",
   "execution_count": 56,
   "metadata": {
    "collapsed": true
   },
   "outputs": [],
   "source": [
    "def num_not_filled(solution):\n",
    "    return len([sol for sol in solution if len(sol) == 0])"
   ]
  },
  {
   "cell_type": "code",
   "execution_count": 65,
   "metadata": {
    "collapsed": true
   },
   "outputs": [],
   "source": [
    "def solution_weight(solution, weight_mapping):\n",
    "    total_weight = 0\n",
    "    \n",
    "    for sol in solution:\n",
    "        total_weight += np.sum(list(map(lambda x: weight_mapping.iloc[x], sol)))\n",
    "    return total_weight"
   ]
  },
  {
   "cell_type": "code",
   "execution_count": 66,
   "metadata": {
    "collapsed": false
   },
   "outputs": [
    {
     "name": "stdout",
     "output_type": "stream",
     "text": [
      "Number of bags that could not be filled: 0 \n",
      "Total weight filled in bags: 49745.381192\n"
     ]
    }
   ],
   "source": [
    "print('Number of bags that could not be filled: %d '%(num_not_filled(solution)))\n",
    "print('Total weight filled in bags: %f'%(solution_weight(solution, gifts_with_weights.weights)))"
   ]
  },
  {
   "cell_type": "code",
   "execution_count": null,
   "metadata": {
    "collapsed": true
   },
   "outputs": [],
   "source": [
    "solution = multi_bag_solution(gifts_with_weights, 1000, weights_std)"
   ]
  },
  {
   "cell_type": "code",
   "execution_count": 54,
   "metadata": {
    "collapsed": true
   },
   "outputs": [],
   "source": [
    "names = gifts_with_weights.GiftId.values\n",
    "solution_with_names = index_to_name(solution, names)"
   ]
  },
  {
   "cell_type": "markdown",
   "metadata": {},
   "source": [
    "Submission history:\n",
    "\n",
    "1. If we sort by std first and weight second w/o shuffling then score on leaderboard: __22073.42356__\n",
    "2. If we sort by weight first and weight second  w/o shuffling then score on leaderboard: \n",
    "3. If we sort by std first and weight second with shuffling then score on leaderboard: \n",
    "4. If we sort by weight first and weight second  with shuffling then score on leaderboard\n"
   ]
  },
  {
   "cell_type": "code",
   "execution_count": 68,
   "metadata": {
    "collapsed": false
   },
   "outputs": [],
   "source": [
    "prepare_solution('greedy_solution_understand_prob', solution_with_names)"
   ]
  }
 ],
 "metadata": {
  "anaconda-cloud": {},
  "kernelspec": {
   "display_name": "Python [Root]",
   "language": "python",
   "name": "Python [Root]"
  },
  "language_info": {
   "codemirror_mode": {
    "name": "ipython",
    "version": 3
   },
   "file_extension": ".py",
   "mimetype": "text/x-python",
   "name": "python",
   "nbconvert_exporter": "python",
   "pygments_lexer": "ipython3",
   "version": "3.5.2"
  }
 },
 "nbformat": 4,
 "nbformat_minor": 0
}
