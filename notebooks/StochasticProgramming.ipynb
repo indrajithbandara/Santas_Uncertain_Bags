{
 "cells": [
  {
   "cell_type": "code",
   "execution_count": 15,
   "metadata": {
    "collapsed": true
   },
   "outputs": [],
   "source": [
    "%matplotlib inline\n",
    "\n",
    "import pandas as pd\n",
    "import numpy as np\n",
    "import scipy as sp\n",
    "import math\n",
    "\n",
    "import matplotlib.pyplot as plt\n",
    "\n",
    "pd.set_option('display.max_columns', None)\n",
    "\n",
    "import seaborn as sns\n",
    "import warnings\n",
    "\n",
    "from sklearn.utils.extmath import cartesian\n",
    "from itertools import product, combinations\n",
    "from operator import add\n",
    "from functools import reduce\n",
    "\n",
    "warnings.filterwarnings('ignore')\n",
    "np.random.seed(2017)\n",
    "\n",
    "%run ../src/stochastic_helpers.py"
   ]
  },
  {
   "cell_type": "markdown",
   "metadata": {},
   "source": [
    "We are planning to solve more tractable version of this problem which involves a single bag that needs to be filled such that maximum possible weight can be carried.\n",
    "\n",
    "Hard Constraints:\n",
    "\n",
    "* Total weight of the bag must be less than 50.\n",
    "* Atleast 3 items must be included in the bag.\n",
    "* Total count of items must not exceed their total available count.\n",
    "\n",
    "Consider solution vector to be something like:\n",
    "\n",
    "```\n",
    "solution : [c1, c2, c3, c4, c5, c6, c7, c8, c9]\n",
    "example  : [8, 2, 3, 1, 0, 0, 1, 2, 1] represents 8 items from type1, 2 items from type2 and so on. \n",
    "\n",
    "```\n",
    "\n",
    "Since each bit in the vector can take values up to maximum possible items for a type it means that solution space is:\n",
    "\n",
    "$$max\\_items\\_type\\_1 * max\\_items\\_type\\_2 * max\\_items\\_type\\_3 ...$$\n",
    "\n",
    "in our case it turns out to be: $$1000 * 1100 * 500 * 1000 * 1200 * 1000 * 1000 * 200 * 166 = 21912000000000000000000000$$ possibilites which is huge.\n",
    "\n",
    "We need to be search the space in much more efficient way.\n",
    "\n",
    "We can make use of the fact that this is a constrained problem and only those candidates should be considered which actually would satisfy the hard constraints mentioned earlier.\n",
    "\n",
    "So no need to generate solutions which are most likely to go take the total weight beyond 50 and no need to generate solutions where total number of items in the bag is less than 3."
   ]
  },
  {
   "cell_type": "markdown",
   "metadata": {},
   "source": [
    "### Search Space"
   ]
  },
  {
   "cell_type": "code",
   "execution_count": 2,
   "metadata": {
    "collapsed": true
   },
   "outputs": [],
   "source": [
    "num_gifts_available = {\n",
    "    \"horse\": 1000,\n",
    "    \"ball\": 1100,\n",
    "    \"bike\": 500,\n",
    "    \"train\": 1000,\n",
    "    \"book\": 1200,\n",
    "    \"doll\": 1000,\n",
    "    \"blocks\": 1000,\n",
    "    \"gloves\": 200,\n",
    "    \"coal\": 166\n",
    "}\n",
    "\n",
    "gift_type_std = [  0.301024,  9.782352,  3.084284,  2.018248, \\\n",
    "                 16.646331,  2.244458,  1.408373,  1.972852,  4.904175]\n",
    "\n",
    "available_count = np.array([num_gifts_available[gift_type] for gift_type in gift_types])"
   ]
  },
  {
   "cell_type": "markdown",
   "metadata": {},
   "source": [
    "** Question: What if we want to know the maximum number of items that we could add for each of the gift type such that it would not overshoot the total budget ? **"
   ]
  },
  {
   "cell_type": "code",
   "execution_count": 3,
   "metadata": {
    "collapsed": true
   },
   "outputs": [],
   "source": [
    "def get_count_estimate(gift_type, quantity, size):\n",
    "    return custom_sample(gift_type, quantity, size)\n",
    "\n",
    "def get_count_estimates(gift_types, num_gifts_available):\n",
    "    max_count_possible = []\n",
    "    \n",
    "    for gift_type in gift_types:\n",
    "        for quantity in range(1, num_gifts_available[gift_type]):\n",
    "            weight_estimates       = get_count_estimate(gift_type, quantity, 1000)\n",
    "            mean_weight_estimate   = np.mean(weight_estimates)\n",
    "            \n",
    "            if mean_weight_estimate > 50.:\n",
    "                max_count_possible.append(quantity)\n",
    "                break\n",
    "    \n",
    "    return max_count_possible"
   ]
  },
  {
   "cell_type": "code",
   "execution_count": 134,
   "metadata": {
    "collapsed": false
   },
   "outputs": [
    {
     "name": "stdout",
     "output_type": "stream",
     "text": [
      "[26, 3, 5, 25, 3, 10, 36, 11, 5]\n"
     ]
    }
   ],
   "source": [
    "max_item_possible = get_count_estimates(gift_types, num_gifts_available)\n",
    "print(max_item_possible)"
   ]
  },
  {
   "cell_type": "code",
   "execution_count": 135,
   "metadata": {
    "collapsed": false
   },
   "outputs": [],
   "source": [
    "# set max item possible to zero for coal\n",
    "max_item_possible[4] = 0"
   ]
  },
  {
   "cell_type": "code",
   "execution_count": 1,
   "metadata": {
    "collapsed": true
   },
   "outputs": [],
   "source": [
    "def evaluate_bag(bag, n_samples=1000):\n",
    "    \"\"\"\n",
    "    Estimates the weight of a bag with a certain configuration\n",
    "    It would any samples where total weight went beyond 50 to 0,\n",
    "    so that those bags would be penalized eventually.\n",
    "    \"\"\"\n",
    "    \n",
    "    bag_weight_sampler = create_bag_weight_sampler(bag)\n",
    "    bag_weight_samples = bag_weight_sampler(n_samples)\n",
    "    bag_weight_samples[bag_weight_samples > 50] = 0\n",
    "    \n",
    "    return np.mean(bag_weight_samples)"
   ]
  },
  {
   "cell_type": "markdown",
   "metadata": {},
   "source": [
    "### Pruning the search space"
   ]
  },
  {
   "cell_type": "code",
   "execution_count": 7,
   "metadata": {
    "collapsed": false
   },
   "outputs": [],
   "source": [
    "def count_constraint(bag):\n",
    "    return np.sum(bag) >= 3\n",
    "\n",
    "def weight_constraint(bag):\n",
    "    bag_weight_sampler = create_bag_weight_sampler(bag)\n",
    "    bag_weight_samples = bag_weight_sampler(100)\n",
    "    \n",
    "    return np.mean(bag_weight_samples) <= 50.0\n",
    "    \n",
    "def filter_bags(bag):\n",
    "    if count_constraint(bag) and weight_constraint(bag):\n",
    "        return True\n",
    "    else:\n",
    "        return False\n",
    "\n",
    "def create_candidates(max_item_possible):\n",
    "    gift_counts = []\n",
    "\n",
    "    for max_possible in max_item_possible:\n",
    "        gift_counts.append(np.arange(max_possible))\n",
    "    \n",
    "    return filter(filter_bags, product(*gift_counts))"
   ]
  },
  {
   "cell_type": "code",
   "execution_count": 185,
   "metadata": {
    "collapsed": false
   },
   "outputs": [],
   "source": [
    "candidates = list(create_candidates(max_item_possible))"
   ]
  },
  {
   "cell_type": "markdown",
   "metadata": {},
   "source": [
    "** Method 2 **"
   ]
  },
  {
   "cell_type": "code",
   "execution_count": 8,
   "metadata": {
    "collapsed": true
   },
   "outputs": [],
   "source": [
    "def individual(max_item_possible):\n",
    "    'Create a member of the population.'\n",
    "    length = len(max_item_possible)\n",
    "    \n",
    "    return np.array([np.random.randint(0, member + 1) for member in max_item_possible])\n",
    "\n",
    "def population(count, max_item_possible):\n",
    "    \"\"\"\n",
    "    Create a number of individuals ( i.e population)\n",
    "    \"\"\"\n",
    "    \n",
    "    return np.array([individual(max_item_possible) for i in range(count)])\n",
    "\n",
    "def fitness(individual, weight_constraint):\n",
    "    \"\"\"\n",
    "    Determines the fitness of the individual, lower is better.\n",
    "    \"\"\"\n",
    "    \n",
    "    estimated_weight = evaluate_bag(individual)\n",
    "    return weight_constraint - estimated_weight\n",
    "\n",
    "def grade(pop, weight_constraint):\n",
    "    'Find average fitness for a population.'\n",
    "    summed = reduce(add, (fitness(x, weight_constraint) for x in pop), 0)\n",
    "    return summed / (len(pop) * 1.0)"
   ]
  },
  {
   "cell_type": "code",
   "execution_count": 9,
   "metadata": {
    "collapsed": true
   },
   "outputs": [],
   "source": [
    "def mutate(population, max_item_possible, chance_to_mutate=0.01):\n",
    "    for individual in population:\n",
    "        if chance_to_mutate > np.random.random():\n",
    "            index_to_modify = np.random.randint(0, len(individual))\n",
    "            individual[index_to_modify] = np.random.randint(0, \\\n",
    "                                                            max_item_possible[index_to_modify] + 1)\n",
    "        \n",
    "    return population"
   ]
  },
  {
   "cell_type": "code",
   "execution_count": 109,
   "metadata": {
    "collapsed": true
   },
   "outputs": [],
   "source": [
    "def evolve(pop, weight_constraint, max_item_possible, retain=0.2, random_select=0.05, mutate=0.01):\n",
    "    graded = [ (fitness(x, weight_constraint), x) for x in pop]\n",
    "    \n",
    "    graded = [ x[1] for x in sorted(graded)]\n",
    "    retain_length = int(len(graded)*retain)\n",
    "    parents = graded[:retain_length]\n",
    "\n",
    "    # randomly add other individuals to promote genetic diversity\n",
    "    for individual in graded[retain_length:]:\n",
    "        if random_select > np.random.random():\n",
    "            parents.append(individual)\n",
    "\n",
    "    # mutate some individuals\n",
    "    for individual in parents:\n",
    "        if mutate > np.random.random():\n",
    "            pos_to_mutate = np.random.randint(0, len(individual)-1)\n",
    "            # this mutation is not ideal, because it\n",
    "            # restricts the range of possible values,\n",
    "            # but the function is unaware of the min/max\n",
    "            # values used to create the individuals,\n",
    "            individual[pos_to_mutate] = np.random.randint(0, max_item_possible[pos_to_mutate] + 1)\n",
    "\n",
    "    # crossover parents to create children\n",
    "    parents_length = len(parents)\n",
    "    desired_length = len(pop) - parents_length\n",
    "    children = []\n",
    "    \n",
    "    parents  = list(parents) # convert numpy array to list\n",
    "    \n",
    "    while len(children) < desired_length:\n",
    "        male = np.random.randint(0, parents_length-1)\n",
    "        female = np.random.randint(0, parents_length-1)\n",
    "        \n",
    "        if male != female:\n",
    "            male_individual = list(parents[male])\n",
    "            female_individual = list(parents[female])\n",
    "        \n",
    "            half = int(len(male_individual) / 2)\n",
    "            child = male_individual[:half] + female_individual[half:]\n",
    "            children.append(child)\n",
    "\n",
    "#     parents.extend(children)\n",
    "    return np.array(parents) # convert it back to numpy array"
   ]
  },
  {
   "cell_type": "code",
   "execution_count": 221,
   "metadata": {
    "collapsed": false
   },
   "outputs": [],
   "source": [
    "weight_constraint = 38\n",
    "modified_max_item_possible = list(map(np.floor, np.array(max_item_possible) / 5.))\n",
    "pop = population(7000, modified_max_item_possible)\n",
    "mutated_population = mutate(pop.copy(), modified_max_item_possible)\n",
    "evolved_pop = evolve(pop.copy(), weight_constraint, \\\n",
    "                     modified_max_item_possible, retain=0.3,\\\n",
    "                     random_select=0.01, mutate=0.01)"
   ]
  },
  {
   "cell_type": "code",
   "execution_count": 222,
   "metadata": {
    "collapsed": false
   },
   "outputs": [
    {
     "name": "stdout",
     "output_type": "stream",
     "text": [
      "10.4406561849\n",
      "10.4509986971\n",
      "3.20066991557\n"
     ]
    }
   ],
   "source": [
    "print(grade(pop, weight_constraint))\n",
    "print(grade(mutated_population, weight_constraint))\n",
    "print(grade(evolved_pop, weight_constraint))"
   ]
  },
  {
   "cell_type": "code",
   "execution_count": 223,
   "metadata": {
    "collapsed": false
   },
   "outputs": [
    {
     "data": {
      "image/png": "[encoded data removed]",
      "text/plain": [
       "<matplotlib.figure.Figure at 0x7f0268c4b320>"
      ]
     },
     "metadata": {},
     "output_type": "display_data"
    }
   ],
   "source": [
    "perf = np.array(list(map(evaluate_bag, evolved_pop)))\n",
    "plt.scatter(np.arange(0, len(evolved_pop)), perf);"
   ]
  },
  {
   "cell_type": "code",
   "execution_count": 224,
   "metadata": {
    "collapsed": true
   },
   "outputs": [],
   "source": [
    "evolved_pop = evolved_pop[perf > 30.]"
   ]
  },
  {
   "cell_type": "markdown",
   "metadata": {},
   "source": [
    "** Simulated Annealing **"
   ]
  },
  {
   "cell_type": "code",
   "execution_count": 93,
   "metadata": {
    "collapsed": false
   },
   "outputs": [],
   "source": [
    "def anneal(bag, modified_max_item_possible):\n",
    "    \n",
    "    def acceptance_probability(old_cost, new_cost, T):\n",
    "        return np.exp((old_cost - new_cost) / T) \n",
    "    \n",
    "    old_cost = evaluate_bag(bag)\n",
    "    T = 1.0 # Temperature\n",
    "    T_min = 0.00001\n",
    "    alpha = 0.9\n",
    "    \n",
    "    while T > T_min:\n",
    "        i = 1\n",
    "        \n",
    "        while i <= 2:\n",
    "            new_solution = mutate([bag], modified_max_item_possible)[0]\n",
    "            new_cost = evaluate_bag(new_solution)\n",
    "            ap = acceptance_probability(old_cost, new_cost, T)\n",
    "            \n",
    "            if ap > np.random.random():\n",
    "                bag = new_solution\n",
    "                old_cost = new_cost\n",
    "            i += 1\n",
    "        T = T*alpha\n",
    "    \n",
    "    return bag, old_cost"
   ]
  },
  {
   "cell_type": "code",
   "execution_count": 98,
   "metadata": {
    "collapsed": false
   },
   "outputs": [],
   "source": [
    "pop = population(100, modified_max_item_possible)\n",
    "annealed_pop = np.array([anneal(individual, modified_max_item_possible) for individual in pop])"
   ]
  },
  {
   "cell_type": "code",
   "execution_count": 100,
   "metadata": {
    "collapsed": false
   },
   "outputs": [
    {
     "data": {
      "text/plain": [
       "array([[array([2, 0, 0, 0, 0, 2, 6, 0, 1]), 31.631642642483015],\n",
       "       [array([3, 0, 1, 0, 0, 1, 3, 2, 1]), 24.834382755063416],\n",
       "       [array([2, 0, 0, 2, 0, 0, 5, 0, 0]), 14.635774147822255],\n",
       "       [array([5, 0, 1, 3, 0, 1, 1, 2, 1]), 10.072507492274777],\n",
       "       [array([2, 0, 1, 5, 0, 2, 1, 0, 1]), 25.934761785307362],\n",
       "       [array([0, 0, 1, 0, 0, 2, 5, 2, 1]), 21.832136837936822],\n",
       "       [array([2, 0, 1, 4, 0, 1, 2, 0, 0]), 30.816866071518728],\n",
       "       [array([5, 0, 1, 0, 0, 1, 7, 2, 0]), 29.455262997151891],\n",
       "       [array([5, 0, 0, 4, 0, 2, 2, 0, 1]), 22.733412007012568],\n",
       "       [array([0, 0, 1, 0, 0, 0, 1, 1, 0]), 17.7055554119639],\n",
       "       [array([0, 0, 1, 2, 0, 2, 0, 1, 1]), 23.996513822354633],\n",
       "       [array([3, 0, 1, 5, 0, 2, 2, 0, 1]), 19.83070042545884],\n",
       "       [array([3, 0, 0, 3, 0, 0, 3, 0, 0]), 12.141998844905359],\n",
       "       [array([1, 0, 1, 0, 0, 1, 6, 0, 1]), 34.220722947348342],\n",
       "       [array([5, 0, 0, 5, 0, 2, 2, 2, 0]), 32.223831825890542],\n",
       "       [array([1, 0, 1, 4, 0, 2, 4, 1, 1]), 8.9118395174873726],\n",
       "       [array([5, 0, 1, 2, 0, 2, 5, 1, 1]), 6.5287050394659785],\n",
       "       [array([1, 0, 1, 5, 0, 1, 4, 1, 0]), 22.455320203562579],\n",
       "       [array([0, 0, 1, 1, 0, 0, 4, 0, 1]), 28.760122263098619],\n",
       "       [array([1, 0, 1, 4, 0, 0, 5, 2, 0]), 34.957866286522396],\n",
       "       [array([4, 0, 1, 2, 0, 1, 0, 1, 1]), 32.11291221768974],\n",
       "       [array([1, 0, 1, 1, 0, 0, 5, 1, 0]), 20.335555503053708],\n",
       "       [array([5, 0, 1, 2, 0, 0, 5, 2, 1]), 14.469963865662072],\n",
       "       [array([5, 0, 0, 3, 0, 1, 2, 1, 1]), 20.267132856225288],\n",
       "       [array([0, 0, 1, 1, 0, 0, 2, 2, 0]), 26.082338962828874],\n",
       "       [array([2, 0, 0, 2, 0, 1, 5, 0, 1]), 29.151037464350665],\n",
       "       [array([3, 0, 0, 2, 0, 2, 7, 0, 0]), 29.218887458962811],\n",
       "       [array([1, 0, 0, 4, 0, 1, 2, 2, 0]), 27.262041173346283],\n",
       "       [array([1, 0, 0, 0, 0, 1, 5, 1, 1]), 24.474809000808118],\n",
       "       [array([5, 0, 1, 3, 0, 0, 2, 0, 0]), 26.167047129239482],\n",
       "       [array([3, 0, 0, 2, 0, 1, 1, 1, 0]), 21.039879214847105],\n",
       "       [array([0, 0, 0, 1, 0, 2, 6, 2, 1]), 17.111247605765136],\n",
       "       [array([1, 0, 0, 1, 0, 2, 3, 2, 1]), 27.569036322619837],\n",
       "       [array([0, 0, 0, 5, 0, 2, 5, 2, 1]), 25.699605506805295],\n",
       "       [array([5, 0, 0, 2, 0, 1, 4, 1, 1]), 29.260920822089965],\n",
       "       [array([4, 0, 0, 3, 0, 1, 6, 0, 0]), 27.050707632838282],\n",
       "       [array([5, 0, 1, 0, 0, 2, 6, 1, 0]), 13.714104294466591],\n",
       "       [array([3, 0, 0, 3, 0, 2, 1, 2, 0]), 32.672034218461548],\n",
       "       [array([2, 0, 1, 1, 0, 1, 2, 2, 1]), 28.704683462058224],\n",
       "       [array([3, 0, 1, 2, 0, 0, 0, 2, 0]), 31.237370723383144],\n",
       "       [array([4, 0, 0, 5, 0, 0, 0, 0, 0]), 17.66845882293552],\n",
       "       [array([2, 0, 0, 1, 0, 1, 0, 1, 1]), 25.600025433275682],\n",
       "       [array([5, 0, 1, 0, 0, 0, 0, 2, 1]), 21.458562368474457],\n",
       "       [array([3, 0, 0, 0, 0, 0, 6, 2, 1]), 29.717980152073217],\n",
       "       [array([3, 0, 1, 2, 0, 0, 5, 2, 1]), 23.264788433266485],\n",
       "       [array([5, 0, 0, 0, 0, 0, 0, 0, 0]), 9.9652229733726934],\n",
       "       [array([4, 0, 1, 2, 0, 0, 1, 0, 1]), 33.745396979330067],\n",
       "       [array([4, 0, 1, 1, 0, 2, 2, 2, 0]), 31.172344429691787],\n",
       "       [array([0, 0, 1, 4, 0, 2, 4, 2, 1]), 0.96836768329480294],\n",
       "       [array([4, 0, 1, 1, 0, 0, 3, 0, 1]), 34.042961382226437],\n",
       "       [array([0, 0, 1, 1, 0, 0, 5, 0, 1]), 25.792519215205779],\n",
       "       [array([1, 0, 1, 5, 0, 0, 2, 2, 1]), 26.992911259027451],\n",
       "       [array([1, 0, 1, 1, 0, 1, 3, 0, 0]), 24.481486392369739],\n",
       "       [array([3, 0, 0, 5, 0, 1, 3, 0, 1]), 20.359748475230365],\n",
       "       [array([0, 0, 0, 0, 0, 2, 3, 0, 0]), 12.692347488810695],\n",
       "       [array([0, 0, 0, 5, 0, 1, 0, 2, 1]), 29.491953068320996],\n",
       "       [array([1, 0, 0, 2, 0, 0, 3, 2, 0]), 19.76965695692963],\n",
       "       [array([1, 0, 1, 4, 0, 2, 7, 2, 0]), 17.738799182747439],\n",
       "       [array([0, 0, 0, 3, 0, 2, 6, 2, 1]), 30.370288744358852],\n",
       "       [array([1, 0, 0, 5, 0, 1, 3, 1, 1]), 30.500784429534939],\n",
       "       [array([2, 0, 1, 3, 0, 0, 1, 0, 0]), 22.569670422181034],\n",
       "       [array([1, 0, 0, 4, 0, 1, 1, 1, 1]), 30.235177612255953],\n",
       "       [array([2, 0, 1, 3, 0, 2, 7, 2, 0]), 17.951089901867469],\n",
       "       [array([3, 0, 1, 4, 0, 2, 2, 2, 1]), 5.758280971007129],\n",
       "       [array([0, 0, 1, 4, 0, 1, 7, 0, 0]), 33.08305002864833],\n",
       "       [array([1, 0, 0, 1, 0, 2, 5, 0, 0]), 20.511321650309895],\n",
       "       [array([2, 0, 1, 1, 0, 2, 0, 1, 1]), 17.693256057091254],\n",
       "       [array([0, 0, 1, 2, 0, 0, 6, 1, 0]), 28.533320336516045],\n",
       "       [array([2, 0, 1, 5, 0, 0, 2, 0, 1]), 33.711625939586227],\n",
       "       [array([3, 0, 0, 3, 0, 2, 1, 1, 1]), 32.129436230319754],\n",
       "       [array([2, 0, 1, 1, 0, 1, 0, 2, 0]), 24.176171982669498],\n",
       "       [array([1, 0, 0, 1, 0, 2, 4, 0, 0]), 19.277161831009007],\n",
       "       [array([5, 0, 1, 3, 0, 2, 3, 1, 0]), 28.745542731685461],\n",
       "       [array([1, 0, 1, 0, 0, 1, 7, 0, 0]), 27.940636297765401],\n",
       "       [array([2, 0, 1, 4, 0, 0, 4, 2, 1]), 5.4709686689844492],\n",
       "       [array([0, 0, 1, 0, 0, 1, 3, 2, 1]), 33.778261643818638],\n",
       "       [array([2, 0, 1, 0, 0, 1, 5, 0, 0]), 27.202680380210953],\n",
       "       [array([5, 0, 0, 5, 0, 1, 4, 2, 1]), 19.300605603240449],\n",
       "       [array([1, 0, 1, 1, 0, 1, 4, 2, 0]), 35.013855970295964],\n",
       "       [array([0, 0, 1, 3, 0, 1, 2, 2, 0]), 34.202088087440949],\n",
       "       [array([0, 0, 1, 3, 0, 2, 4, 2, 1]), 13.555635968053085],\n",
       "       [array([4, 0, 0, 1, 0, 1, 2, 2, 0]), 22.539331394425172],\n",
       "       [array([2, 0, 1, 3, 0, 0, 6, 2, 1]), 20.121178709004042],\n",
       "       [array([5, 0, 0, 4, 0, 0, 0, 1, 1]), 32.113431512546015],\n",
       "       [array([1, 0, 1, 5, 0, 1, 3, 1, 1]), 24.762522478448815],\n",
       "       [array([0, 0, 0, 0, 0, 2, 4, 1, 0]), 20.931117217579462],\n",
       "       [array([3, 0, 1, 4, 0, 1, 1, 0, 1]), 29.140378898321366],\n",
       "       [array([4, 0, 0, 5, 0, 0, 7, 0, 1]), 28.913018288544592],\n",
       "       [array([1, 0, 1, 5, 0, 1, 4, 2, 1]), 12.423145510047044],\n",
       "       [array([1, 0, 0, 0, 0, 0, 3, 0, 1]), 15.794183531142517],\n",
       "       [array([0, 0, 1, 5, 0, 0, 3, 1, 0]), 29.955480309295126],\n",
       "       [array([4, 0, 1, 2, 0, 0, 1, 0, 1]), 33.787419689819572],\n",
       "       [array([3, 0, 0, 4, 0, 2, 6, 2, 0]), 13.624048229502639],\n",
       "       [array([1, 0, 0, 2, 0, 0, 1, 1, 0]), 12.052068966454092],\n",
       "       [array([2, 0, 1, 5, 0, 0, 1, 2, 0]), 32.096697411830682],\n",
       "       [array([2, 0, 0, 2, 0, 2, 0, 0, 1]), 17.767493279867121],\n",
       "       [array([5, 0, 0, 3, 0, 1, 4, 0, 0]), 26.054374109134624],\n",
       "       [array([1, 0, 1, 5, 0, 1, 4, 0, 1]), 29.799875152176298],\n",
       "       [array([0, 0, 1, 2, 0, 0, 1, 0, 0]), 5.0726686578739768],\n",
       "       [array([5, 0, 0, 4, 0, 2, 4, 2, 0]), 9.1538735275533618]], dtype=object)"
      ]
     },
     "execution_count": 100,
     "metadata": {},
     "output_type": "execute_result"
    }
   ],
   "source": [
    "annealed_pop"
   ]
  },
  {
   "cell_type": "markdown",
   "metadata": {
    "collapsed": true
   },
   "source": [
    "** Method 3 **"
   ]
  },
  {
   "cell_type": "code",
   "execution_count": 100,
   "metadata": {
    "collapsed": true
   },
   "outputs": [],
   "source": [
    "def create_initial_candidates(max_item_count):\n",
    "    \"\"\"\n",
    "    Based on the max permissible item count, we can generate initial candidates\n",
    "    for each of the gift types.\n",
    "    \n",
    "    e.g. Only 26 horses can be included in a single bag such that it won't overshoot the\n",
    "    total budget. so intial candidate would be something like\n",
    "    \"\"\"\n",
    "    candidates = []\n",
    "    \n",
    "    for i in range(len(max_item_count)):\n",
    "        max_possible_item = np.zeros(shape=(len(max_item_count), ))\n",
    "        max_possible_item[i] = max_item_count[i]\n",
    "        \n",
    "        candidates.append(max_possible_item)\n",
    "    \n",
    "    return np.array(candidates)"
   ]
  },
  {
   "cell_type": "code",
   "execution_count": 27,
   "metadata": {
    "collapsed": false
   },
   "outputs": [],
   "source": [
    "def generate_solutions(max_item_count):\n",
    "    def evaluate_neighbors(neighbors):\n",
    "        perf = np.array([(neighbor, objective_function(neighbor, 1000)) \\\n",
    "                         for neighbor in neighbors])\n",
    "        \n",
    "        return perf[perf[:, 1] >= 28.][:, 0]\n",
    "    \n",
    "    solutions = []\n",
    "    candidates = create_initial_candidates(max_item_count)\n",
    "    \n",
    "    for i in range(0, 9):\n",
    "        \n",
    "        queue     = []\n",
    "        queue.append(candidates[i])\n",
    "        n_iterations = 0\n",
    "        \n",
    "        while True and n_iterations <= 1000 and len(queue) > 0:\n",
    "            print('total solutions till now ', len(solutions))\n",
    "            next_candidate = queue.pop()\n",
    "\n",
    "            if next_candidate[i] <= 0:\n",
    "                break\n",
    "\n",
    "            neighbors = generate_neighbors(next_candidate, i)\n",
    "            neighbors_survived = evaluate_neighbors(neighbors)\n",
    "            \n",
    "            if len(neighbors_survived) < 2:\n",
    "                perturbation_vector = np.zeros(shape=(9, ))\n",
    "                perturbation_vector[i] = -1\n",
    "\n",
    "                queue.append(next_candidate + perturbation_vector)\n",
    "            else:\n",
    "                \n",
    "                for survivor in neighbors_survived:\n",
    "                    \n",
    "                    if len(solutions) > 0:\n",
    "\n",
    "                        if np.sum(np.all(survivor == solutions, axis=1)) == 0:\n",
    "                            solutions.append(survivor)\n",
    "                            queue.append(survivor)\n",
    "                    else:\n",
    "                        solutions.append(survivor)\n",
    "                        queue.append(survivor)\n",
    "                                        \n",
    "            n_iterations += 1\n",
    "            \n",
    "    return solutions\n",
    "\n",
    "def repeat_solutions(df, available_count):\n",
    "    solution_space = []\n",
    "    for i in range(len(df)):\n",
    "        mask = (df.iloc[i] > 0).values\n",
    "        repeat_count = np.min((available_count[mask] / df.iloc[i][mask]).map(np.floor))\n",
    "        solution_space.append(np.repeat([df.iloc[i].values], repeat_count, axis=0))\n",
    "    \n",
    "    return np.vstack(solution_space)"
   ]
  },
  {
   "cell_type": "code",
   "execution_count": 225,
   "metadata": {
    "collapsed": false
   },
   "outputs": [
    {
     "data": {
      "image/png": "[encoded data removed]",
      "text/plain": [
       "<matplotlib.figure.Figure at 0x7f0268ee8d68>"
      ]
     },
     "metadata": {},
     "output_type": "display_data"
    }
   ],
   "source": [
    "# solutions = generate_solutions(max_item_count)\n",
    "df = pd.DataFrame(evolved_pop)\n",
    "df = df.drop_duplicates()\n",
    "sns.distplot(df.apply(evaluate_bag, axis=1));"
   ]
  },
  {
   "cell_type": "code",
   "execution_count": 226,
   "metadata": {
    "collapsed": false
   },
   "outputs": [],
   "source": [
    "# generate the total search space based on evaluation function\n",
    "solution_space = repeat_solutions(df, available_count)"
   ]
  },
  {
   "cell_type": "code",
   "execution_count": 227,
   "metadata": {
    "collapsed": false
   },
   "outputs": [
    {
     "data": {
      "text/plain": [
       "148573"
      ]
     },
     "execution_count": 227,
     "metadata": {},
     "output_type": "execute_result"
    }
   ],
   "source": [
    "len(solution_space)"
   ]
  },
  {
   "cell_type": "markdown",
   "metadata": {},
   "source": [
    "__Given different bags choose those bags that would give us the maximum possible weight.__"
   ]
  },
  {
   "cell_type": "code",
   "execution_count": 30,
   "metadata": {
    "collapsed": false
   },
   "outputs": [],
   "source": [
    "def pack_linprog(bags, distributions, min_variance, max_bags=1000):\n",
    "    # objective: c.T * x -> min\n",
    "    c = - distributions[:,0] # optimize sum of expected bag utilities\n",
    "    \n",
    "    # constraint: A_ub * x <= b_ub\n",
    "    A_ub = bags.T # don't use more gifts than available\n",
    "    b_ub = np.array([num_gifts_available[gift] for gift in gift_types])\n",
    "    \n",
    "    A_ub = np.vstack([A_ub, np.ones(A_ub.shape[1])]) # pack at most max_bags gifts\n",
    "    b_ub = np.hstack([b_ub, [max_bags]])\n",
    "    \n",
    "    if min_variance is not None:\n",
    "        A_ub = np.vstack([A_ub, -distributions[:,1]]) # require minimum variance\n",
    "        b_ub = np.hstack([b_ub, [-min_variance]])\n",
    "    \n",
    "    result = sp.optimize.linprog(c, A_ub=A_ub, b_ub=b_ub)\n",
    "    if result[\"success\"] == False:\n",
    "        return [], True\n",
    "    else:\n",
    "        return result[\"x\"].astype('int64'), False\n",
    "\n",
    "\n",
    "def pack_bags(bags, distributions, min_variance=None):\n",
    "    max_bags = 1000\n",
    "    bag_quantities, infeasible = pack_linprog(bags, distributions, min_variance=min_variance)\n",
    "    while np.sum(bag_quantities) < 1000:\n",
    "        max_bags += 1\n",
    "        bag_quantities, infeasible = pack_linprog(bags, distributions, min_variance=min_variance, max_bags=max_bags)\n",
    "        if max_bags > 1015:\n",
    "            print(\"WARNING: not getting 1000 bags\")\n",
    "            break\n",
    "        if infeasible:\n",
    "            continue\n",
    "    \n",
    "    if infeasible:\n",
    "        print(\"infeasible\")\n",
    "        return [], [], []\n",
    "    \n",
    "    chosen_bag_idx = np.where(bag_quantities)[0]\n",
    "    chosen_bags = bags[chosen_bag_idx]\n",
    "    chosen_distributions = distributions[chosen_bag_idx]\n",
    "    chosen_quantities = bag_quantities[chosen_bag_idx]\n",
    "    \n",
    "    while np.sum(chosen_quantities) > 1000:\n",
    "        idx = np.random.randint(len(chosen_quantities))\n",
    "        chosen_quantities[idx] = max (chosen_quantities[idx]-1, 0)\n",
    "    \n",
    "    score_distribution = np.dot(chosen_quantities, chosen_distributions)\n",
    "    print(\"{} bags - score distribution: mean = {:.2f} | var = {:.2f}\"\n",
    "          .format(np.sum(chosen_quantities), score_distribution[0], score_distribution[1]))\n",
    "    \n",
    "    return chosen_bags, chosen_distributions, chosen_quantities"
   ]
  },
  {
   "cell_type": "code",
   "execution_count": 228,
   "metadata": {
    "collapsed": false
   },
   "outputs": [
    {
     "name": "stdout",
     "output_type": "stream",
     "text": [
      "0.0000\n",
      "0.0471\n",
      "0.0942\n",
      "0.1413\n",
      "0.1885\n",
      "0.2356\n",
      "0.2827\n",
      "0.3298\n",
      "0.3769\n",
      "0.4240\n",
      "0.4711\n",
      "0.5183\n",
      "0.5654\n",
      "0.6125\n",
      "0.6596\n",
      "0.7067\n",
      "0.7538\n",
      "0.8010\n",
      "0.8481\n",
      "0.8952\n",
      "0.9423\n",
      "0.9894\n",
      "\n",
      "1000 bags - score distribution: mean = 35746.19 | var = 65204.95\n"
     ]
    }
   ],
   "source": [
    "bag_utility_distributions = get_bag_utility_distributions(solution_space)\n",
    "packed_bags, packed_distributions, packed_quantities \\\n",
    "    = pack_bags(solution_space, bag_utility_distributions, min_variance=None)"
   ]
  },
  {
   "cell_type": "markdown",
   "metadata": {},
   "source": [
    "__Create different submissions__"
   ]
  },
  {
   "cell_type": "code",
   "execution_count": 199,
   "metadata": {
    "collapsed": false
   },
   "outputs": [],
   "source": [
    "def create_submissions(bags, quantities, num_submissions=5):\n",
    "    def create_stock(n):\n",
    "        stock = { gift: list(map(lambda id: \"{}_{}\".format(gift, id) ,np.arange(num_gifts_available[gift]))) for gift in gift_types }\n",
    "        return shuffle(stock, n)\n",
    "    \n",
    "    def shuffle(stock, seed):\n",
    "        np.random.seed(seed)\n",
    "        for gift in stock.keys():\n",
    "            np.random.shuffle(stock[gift])\n",
    "        return stock\n",
    "    \n",
    "    def generate_submission(n):\n",
    "        from datetime import datetime\n",
    "        curr_time_str = datetime.today().strftime(\"%B %d, %Y %H:%M:%S\")\n",
    "        \n",
    "        stock = create_stock(n)\n",
    "        with open(\"../submissions/submission_without_coal_{}_{}.csv\".format(curr_time_str, n), 'w+') as submission_file:\n",
    "            submission_file.write('Gifts\\n')\n",
    "            for i in range(len(bags)):\n",
    "                for quantity in range(quantities[i]):\n",
    "                    current_gifts = bags[i]\n",
    "                    for gift_idx, gift_quantity in enumerate(current_gifts[:len(gift_types)]):\n",
    "                        gift_name = gift_types[gift_idx]\n",
    "                        for j in range(int(gift_quantity)):\n",
    "                            submission_file.write(\"{} \".format(stock[gift_name].pop()))\n",
    "                    submission_file.write(\"\\n\")\n",
    "    \n",
    "    for n in range(num_submissions):\n",
    "        generate_submission(n)"
   ]
  },
  {
   "cell_type": "code",
   "execution_count": 200,
   "metadata": {
    "collapsed": false
   },
   "outputs": [],
   "source": [
    "create_submissions(packed_bags, packed_quantities)"
   ]
  },
  {
   "cell_type": "markdown",
   "metadata": {},
   "source": [
    "### Leaderboard Summary\n",
    "\n",
    "1. Score for one of the submissions: __34418.20039__\n",
    "2. Score for one of the submission with updated max count: __34573.07771__"
   ]
  }
 ],
 "metadata": {
  "anaconda-cloud": {},
  "kernelspec": {
   "display_name": "Python [Root]",
   "language": "python",
   "name": "Python [Root]"
  },
  "language_info": {
   "codemirror_mode": {
    "name": "ipython",
    "version": 3
   },
   "file_extension": ".py",
   "mimetype": "text/x-python",
   "name": "python",
   "nbconvert_exporter": "python",
   "pygments_lexer": "ipython3",
   "version": "3.5.2"
  }
 },
 "nbformat": 4,
 "nbformat_minor": 0
}
