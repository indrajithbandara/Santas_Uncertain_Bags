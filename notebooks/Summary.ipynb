{
 "cells": [
  {
   "cell_type": "code",
   "execution_count": 9,
   "metadata": {
    "collapsed": true
   },
   "outputs": [],
   "source": [
    "%matplotlib inline\n",
    "\n",
    "import pandas as pd\n",
    "import numpy as np\n",
    "import scipy as sp\n",
    "import math\n",
    "\n",
    "import matplotlib.pyplot as plt\n",
    "\n",
    "pd.set_option('display.max_columns', None)\n",
    "\n",
    "import seaborn as sns\n",
    "import warnings\n",
    "\n",
    "from sklearn.utils.extmath import cartesian\n",
    "from collections import defaultdict\n",
    "from itertools import product\n",
    "\n",
    "warnings.filterwarnings('ignore')\n",
    "\n",
    "np.random.seed(2017)\n",
    "\n",
    "%run ../src/santa_helper.py"
   ]
  },
  {
   "cell_type": "markdown",
   "metadata": {
    "nbpresent": {
     "id": "df9e1045-d316-4fab-86c8-146b18ca3643"
    }
   },
   "source": [
    "## Stochastic Optimization\n",
    "Recently I stumbled upon this challenge on [https://www.kaggle.com/c/santas-uncertain-bags](Kaggle) which asked to solve this complex combinatorical problem but with a twist ( Hint: It involves randomness). So I decided to take this opportunity to brush up on my math skills. In the following post I will try to document my whole thought process."
   ]
  },
  {
   "cell_type": "markdown",
   "metadata": {},
   "source": [
    "### Problem Description\n",
    "\n",
    "Problem Statement:\n",
    "\n",
    "There are 9 different types of gifts, and total of 1000 bags. Each bag can hold only 50 pounds. Each gift has a fixed weight but individual weights are unknown. The weights for each of the gifts can be different. We only have information about the probability distributions for each type of gift.\n",
    "\n",
    "\n",
    "Constraints:\n",
    "\n",
    "1. A bag can not hold more than 50 pounds.\n",
    "2. No gift can be used more than once.\n",
    "3. Every bag must have 3 or more gifts.\n",
    "\n",
    "Problem asks us to find out a combination of gifts in bags such that we are able to carry maximum amount of weight possible.\n",
    "\n",
    "e.g.\n",
    "\n",
    "```\n",
    "Bag 1: horse_0 book_345 gloves_48 \n",
    "Bag 2: doll_873 train_714 coal23 bike_85\n",
    "...\n",
    "```"
   ]
  },
  {
   "cell_type": "markdown",
   "metadata": {},
   "source": [
    "### Nature of problem\n",
    "\n",
    "- Optimization Problem ( Stochastic )\n",
    "- Randomness in the data.\n",
    "- Difficult to find the global minimum or maximum.\n",
    "- Turn towards stochastic algorithms."
   ]
  },
  {
   "cell_type": "markdown",
   "metadata": {},
   "source": [
    "### Types of Stochastic Algorithms\n",
    ">. . . are all alike in their promises.\n",
    "> It is only in their deeds that they differ . - Moliere, The Miser\n",
    "\n",
    "** There is a plethora of algorithms, but remember as problem change you have to change algorithm. **\n",
    "\n",
    "- Random Search\n",
    "- Genetic Algorithms\n",
    "- Hill Climbing\n",
    "- Simulated Annealing\n",
    "\n",
    "and many more."
   ]
  },
  {
   "cell_type": "markdown",
   "metadata": {},
   "source": [
    "_Random Search_ - Provides a baseline with which we could compare other stochastic algorithms\n",
    "_Genetic Algorithms_ - Probabilistic algorithm which yield candidates that could serve as potential solutions."
   ]
  },
  {
   "cell_type": "markdown",
   "metadata": {},
   "source": [
    "> The reasonable man adapts\n",
    "himself to the world;\n",
    "the unreasonable one persists\n",
    "in trying to adapt the world to himself.\n",
    "Therefore all progress depends\n",
    "on the unreasonable man.\n",
    "\n",
    "George Bernard Shaw, Maxims for Revolutionists\n",
    "\n",
    "Sometimes you have to make unreasonable choices to make the problem tractable."
   ]
  },
  {
   "cell_type": "markdown",
   "metadata": {},
   "source": [
    "** Problem Representation **\n",
    "\n",
    "How would we want to represent the problem ?\n",
    "\n",
    "- Instead of trying to solve for all 1000 bags at once, try to solve for a much simpler case like for a single bag.\n",
    "- So solution would look something like this, we would generate bags that have weight close enough to 50 and generate many such bags and then choose 1000 of them to get the highest possible score.\n",
    "\n",
    "We are planning to solve more tractable version of this problem which involves a single bag that needs to be filled such that maximum possible weight can be carried.\n",
    "\n",
    "Hard Constraints:\n",
    "\n",
    "* Total weight of the bag must be less than 50.\n",
    "* Atleast 3 items must be included in the bag.\n",
    "* Total count of items must not exceed their total available count.\n",
    "\n",
    "Consider solution vector to be something like:\n",
    "\n",
    "```\n",
    "solution : [c1, c2, c3, c4, c5, c6, c7, c8, c9]\n",
    "example  : [8, 2, 3, 1, 0, 0, 1, 2, 1] represents 8 items from type1, 2 items from type2 and so on. \n",
    "\n",
    "```\n",
    "\n",
    "Since each bit in the vector can take values up to maximum possible items for a type it means that solution space is:\n",
    "\n",
    "$$max\\_items\\_type\\_1 * max\\_items\\_type\\_2 * max\\_items\\_type\\_3 ...$$\n",
    "\n",
    "in our case it turns out to be: $$1000 * 1100 * 500 * 1000 * 1200 * 1000 * 1000 * 200 * 166 = 21912000000000000000000000$$ possibilites which is huge.\n",
    "\n",
    "We need to be search the space in much more efficient way.\n",
    "\n",
    "We can make use of the fact that this is a constrained problem and only those candidates should be considered which actually would satisfy the hard constraints mentioned earlier.\n",
    "\n",
    "So no need to generate solutions which are most likely to go take the total weight beyond 50 and no need to generate solutions where total number of items in the bag is less than 3."
   ]
  },
  {
   "cell_type": "markdown",
   "metadata": {},
   "source": [
    "### Solution\n",
    "\n",
    "- Candidate solution generation ( Genetic Algorithm )\n",
    "- Bag Packing ( Linear Programming )"
   ]
  },
  {
   "cell_type": "code",
   "execution_count": 2,
   "metadata": {
    "collapsed": false
   },
   "outputs": [
    {
     "name": "stdout",
     "output_type": "stream",
     "text": [
      "Estimation of weight of bag containing two horses: \n",
      "[  4.82637366   7.80104358   7.53720465  12.97055717   9.63975113\n",
      "   8.05202214   8.11415732   7.4164609    8.10915182   6.12412129]\n"
     ]
    }
   ],
   "source": [
    "def sample_horse(size=1):\n",
    "    return np.maximum(0, np.random.normal(5,2,size))\n",
    "\n",
    "def sample_ball(size=1):\n",
    "    return np.maximum(0, 1 + np.random.normal(1,0.3,size))\n",
    "\n",
    "def sample_bike(size=1):\n",
    "    return np.maximum(0, np.random.normal(20,10,size))\n",
    "\n",
    "def sample_train(size=1):\n",
    "    return np.maximum(0, np.random.normal(10,5,size))\n",
    "\n",
    "def sample_coal(size=1):\n",
    "    return 47 * np.random.beta(0.5,0.5,size)\n",
    "\n",
    "def sample_book(size=1):\n",
    "    return np.random.chisquare(2,size)\n",
    "\n",
    "def sample_doll(size=1):\n",
    "    return np.random.gamma(5,1,size)\n",
    "\n",
    "def sample_block(size=1):\n",
    "    return np.random.triangular(5,10,20,size)\n",
    "\n",
    "def sample_gloves(size=1):\n",
    "    dist1 = 3.0 + np.random.rand(size)\n",
    "    dist2 = np.random.rand(size)\n",
    "    toggle = np.random.rand(size) < 0.3\n",
    "    dist2[toggle] = dist1[toggle]\n",
    "    return dist2\n",
    "\n",
    "samplers = {\n",
    "    \"horse\": sample_horse,\n",
    "    \"ball\": sample_ball,\n",
    "    \"bike\": sample_bike,\n",
    "    \"train\": sample_train,\n",
    "    \"coal\": sample_coal,\n",
    "    \"book\": sample_book,\n",
    "    \"doll\": sample_doll,\n",
    "    \"blocks\": sample_block,\n",
    "    \"gloves\": sample_gloves\n",
    "}\n",
    "\n",
    "def sample(gift_type, quantity=1, size=1):\n",
    "    \"\"\"\n",
    "    Use the sampling method for a gift type to generate samples\n",
    "    from the underlying distribution.\n",
    "    \n",
    "    Also takes quantity and size as the parameters which represent\n",
    "    how many iterations should we consider and what should be the sample size for each of\n",
    "    the iteration.\n",
    "    \"\"\"\n",
    "    return np.sum(samplers[gift_type](quantity * size).reshape(quantity, size), axis=0)\n",
    "\n",
    "print('Estimation of weight of bag containing two horses: \\n{}'.format(sample('horse', 2, 10)))"
   ]
  },
  {
   "cell_type": "markdown",
   "metadata": {},
   "source": [
    "** Now we need to generate enough samples to have any sort of confidence regarding the estimated weight.**"
   ]
  },
  {
   "cell_type": "code",
   "execution_count": 3,
   "metadata": {
    "collapsed": false
   },
   "outputs": [
    {
     "name": "stdout",
     "output_type": "stream",
     "text": [
      "Weight estimations for this bag ['ball(2)', 'horse(1)']: [ 11.07989868   9.0213798    6.85237687   8.19870475   4.59779781\n",
      "   9.15103981   6.0782703    7.41647187   9.25937581  10.54216101]\n"
     ]
    }
   ],
   "source": [
    "def bag_name(bag):\n",
    "    return str(list(map(lambda gift: \"{}({})\".format(gift, bag[gift]), sorted(bag.keys()))))\n",
    "\n",
    "def create_bag_weight_sampler(bag):\n",
    "    def bag_weight_sampler(size=1):\n",
    "        weight = np.array([0.0]*size)\n",
    "        for gift in sorted(bag.keys()):\n",
    "            weight += sample(gift, bag[gift], size)\n",
    "        return weight\n",
    "    return bag_weight_sampler, bag_name(bag)\n",
    "\n",
    "bag = { \"horse\": 1, \"ball\": 2 } # this defines that bag contains 1 horse and 2 balls\n",
    "bag_weight_sampler, name = create_bag_weight_sampler(bag)\n",
    "print(\"Weight estimations for this bag {}: {}\".format(name, bag_weight_sampler(10)))"
   ]
  },
  {
   "cell_type": "markdown",
   "metadata": {},
   "source": [
    ">If we can really understand the problem,\n",
    "the answer will come out of it ,\n",
    "because the answer is not separate\n",
    "from the problem.\n",
    "\n",
    "Krishnamurti\n",
    "\n",
    "We cannot expect to find a solution to a problem unless we have fair sense of what it ask of us ?"
   ]
  },
  {
   "cell_type": "code",
   "execution_count": 4,
   "metadata": {
    "collapsed": false
   },
   "outputs": [
    {
     "name": "stdout",
     "output_type": "stream",
     "text": [
      "['book(1)', 'horse(2)']: mean=12.018761434887095 | std=3.5102605113772345\n",
      "['ball(2)', 'horse(1)']: mean=9.012789506289119 | std=2.0126845467460552\n",
      "['ball(1)']: mean=2.00202528020715 | std=0.3001094540729906\n",
      "['bike(1)']: mean=20.217204900956204 | std=9.780419611692931\n",
      "['train(1)']: mean=10.025292525807563 | std=4.895800470297536\n",
      "['coal(1)']: mean=23.323512994574067 | std=16.629852653604985\n",
      "['book(1)']: mean=1.9999589731772547 | std=1.9759229938903402\n",
      "['doll(1)']: mean=4.988727895119982 | std=2.2188089549268466\n",
      "['blocks(1)']: mean=11.677478388311739 | std=3.132245130041533\n",
      "['gloves(1)']: mean=1.40651167977616 | std=1.4075395121365537\n",
      "['bike(1)', 'coal(1)']: mean=43.7637325173457 | std=19.145095363064595\n",
      "['horse(2)', 'train(1)']: mean=20.116829758726492 | std=5.623154119073732\n"
     ]
    },
    {
     "data": {
      "image/png": "[encoded data removed]",
      "text/plain": [
       "<matplotlib.figure.Figure at 0x7fd9ba681160>"
      ]
     },
     "metadata": {},
     "output_type": "display_data"
    }
   ],
   "source": [
    "def plot_bag_weight_distributions(bags, size=10000):\n",
    "    plot_distributions(bags, create_bag_weight_sampler, size=size)\n",
    "\n",
    "def plot_distributions(bags, sampler_builder, size=10000, fit=None):\n",
    "    num_plots = len(bags)\n",
    "    num_cols = int(round(math.sqrt(num_plots)))\n",
    "    num_rows = (num_plots // num_cols)\n",
    "    num_rows = num_rows if num_plots % num_cols == 0 else num_rows + 1\n",
    "    \n",
    "    f, axes = plt.subplots(num_rows, num_cols, figsize=(10, 8))\n",
    "    axes = axes.reshape(-1)\n",
    "    for i in range(num_plots):\n",
    "        current_bag = bags[i]\n",
    "        current_bag_sampler, current_bag_name = sampler_builder(current_bag)\n",
    "        current_sample = current_bag_sampler(size)\n",
    "        print(\"{}: mean={} | std={}\".format(current_bag_name, np.mean(current_sample), np.std(current_sample)))\n",
    "        current_axis = axes[i]\n",
    "#         sns.distplot(current_sample, ax=current_axis, fit=fit, kde=False)\n",
    "        # plot a boxplot\n",
    "        sns.boxplot(x=current_sample, ax=current_axis)\n",
    "        current_axis.set_title(current_bag_name)\n",
    "        current_axis.set_yticklabels([])\n",
    "    plt.tight_layout()\n",
    "    plt.show()\n",
    "    \n",
    "single_gift_bags = [\n",
    "    {\"horse\": 2, \"book\": 1},\n",
    "    {\"ball\": 2, \"horse\": 1},\n",
    "    {\"ball\": 1},\n",
    "    {\"bike\": 1},\n",
    "    {\"train\": 1},\n",
    "    {\"coal\": 1},\n",
    "    {\"book\": 1},\n",
    "    {\"doll\": 1},\n",
    "    {\"blocks\": 1},\n",
    "    {\"gloves\": 1},\n",
    "    {'bike':1, 'coal':1},\n",
    "    {'horse':2, 'train': 1}\n",
    "]\n",
    "\n",
    "plot_bag_weight_distributions(single_gift_bags)"
   ]
  },
  {
   "cell_type": "markdown",
   "metadata": {},
   "source": [
    "** Now we have a fair indication about mean weight and standard deviation in weights of different items. **"
   ]
  },
  {
   "cell_type": "markdown",
   "metadata": {},
   "source": [
    "### Evaluation Function\n",
    "\n",
    "Now we need to set up a function which could give us some kind of feedback regarding a potential solutoion."
   ]
  },
  {
   "cell_type": "code",
   "execution_count": 5,
   "metadata": {
    "collapsed": true
   },
   "outputs": [],
   "source": [
    "def evaluate_bag(bag, n_samples=10000):\n",
    "    \"\"\"\n",
    "    Estimates the weight of a bag with a certain configuration\n",
    "    It would any samples where total weight went beyond 50 to 0,\n",
    "    so that those bags would be penalized eventually.\n",
    "    \n",
    "    Optimization: Instead of generate all samples, generate n_samples / 1000\n",
    "    and see if the samples show low variance then stop otherwise continue for\n",
    "    whole number of samples initially asked for.\n",
    "    \"\"\"\n",
    "    \n",
    "    batch_samples = int(n_samples / 1000)\n",
    "    \n",
    "    bag_weight_sampler = create_bag_weight_sampler(bag)\n",
    "    bag_weight_samples = bag_weight_sampler(batch_samples)\n",
    "    bag_weight_samples[bag_weight_samples > 50] = 0\n",
    "    \n",
    "    mean_weight_bag = np.mean(bag_weight_samples)\n",
    "    std_weight_bag  = np.std(bag_weight_samples)\n",
    "    \n",
    "    if mean_weight_bag > 28. and std_weight_bag < 7.:\n",
    "        # pretty sure about the estimated result\n",
    "        return mean_weight_bag\n",
    "    elif mean_weight_bag > 20. and std_weight_bag > 7.:\n",
    "        # not very sure about the result may need more iterations\n",
    "        remaining_samples = n_samples - batch_samples\n",
    "        bag_weight_samples = bag_weight_sampler(remaining_samples)\n",
    "        bag_weight_samples[bag_weight_samples > 50] = 0\n",
    "    \n",
    "        mean_weight_bag = np.mean(bag_weight_samples)\n",
    "        \n",
    "        return mean_weight_bag\n",
    "    else:\n",
    "        # no chance\n",
    "        return mean_weight_bag"
   ]
  },
  {
   "cell_type": "markdown",
   "metadata": {},
   "source": [
    "### Genertic Algorithms\n",
    "\n",
    "These are probabilistic algorithm that use techniques from evolutionary biology to create candidates that could lead us to potential solution.\n",
    "\n",
    "Terminology:\n",
    "\n",
    "- Individual - Candidate solution\n",
    "- Population - Group of individuals\n",
    "- Fitness    - Determines the fitness of the individual, lower is better ( closer to goal )\n",
    "- Mutation, Crossover - Biologically inspired operators."
   ]
  },
  {
   "cell_type": "code",
   "execution_count": 5,
   "metadata": {
    "collapsed": true
   },
   "outputs": [],
   "source": [
    "def individual(max_item_possible):\n",
    "    'Create a member of the population.'\n",
    "    length = len(max_item_possible)\n",
    "    \n",
    "    return np.array([np.random.randint(0, member + 1) for member in max_item_possible])\n",
    "\n",
    "def population(count, max_item_possible):\n",
    "    \"\"\"\n",
    "    Create a number of individuals ( i.e population)\n",
    "    \"\"\"\n",
    "    \n",
    "    return np.array([individual(max_item_possible) for i in range(count)])\n",
    "\n",
    "def fitness(individual, weight_constraint):\n",
    "    \"\"\"\n",
    "    Determines the fitness of the individual, lower is better.\n",
    "    \"\"\"\n",
    "    \n",
    "    estimated_weight = evaluate_bag(individual)\n",
    "    return weight_constraint - estimated_weight\n",
    "\n",
    "def grade(pop, weight_constraint):\n",
    "    'Find average fitness for a population.'\n",
    "    summed = reduce(add, (fitness(x, weight_constraint) for x in pop), 0)\n",
    "    return summed / len(pop)\n",
    "\n",
    "def mutate(population, max_item_possible, chance_to_mutate=0.01):\n",
    "    for individual in population:\n",
    "        if chance_to_mutate > np.random.random():\n",
    "            index_to_modify = np.random.randint(0, len(individual))\n",
    "            individual[index_to_modify] = np.random.randint(0, \\\n",
    "                                                            max_item_possible[index_to_modify] + 1)\n",
    "        \n",
    "    return population"
   ]
  },
  {
   "cell_type": "markdown",
   "metadata": {},
   "source": [
    "** Evolution takes in a population and the goal and then generate individuals that would be part of the next generation, we can specify how many individuals we want to retain from previous generation and degree of mutation. **"
   ]
  },
  {
   "cell_type": "code",
   "execution_count": 6,
   "metadata": {
    "collapsed": true
   },
   "outputs": [],
   "source": [
    "def evaluate_bag(bag, n_samples=1000):\n",
    "    \"\"\"\n",
    "    Estimates the weight of a bag with a certain configuration\n",
    "    It would any samples where total weight went beyond 50 to 0,\n",
    "    so that those bags would be penalized eventually.\n",
    "    \"\"\"\n",
    "    \n",
    "    bag_weight_sampler = create_bag_weight_sampler(bag)\n",
    "    bag_weight_samples = bag_weight_sampler(n_samples)\n",
    "    bag_weight_samples[bag_weight_samples > 50] = 0\n",
    "    \n",
    "    return np.mean(bag_weight_samples)"
   ]
  },
  {
   "cell_type": "code",
   "execution_count": 7,
   "metadata": {
    "collapsed": true
   },
   "outputs": [],
   "source": [
    "def evolve(pop, weight_constraint, max_item_possible, retain=0.2, random_select=0.05, mutate=0.01):\n",
    "    graded = [ (fitness(x, weight_constraint), x) for x in pop]\n",
    "    \n",
    "    graded = [ x[1] for x in sorted(graded)]\n",
    "    retain_length = int(len(graded)*retain)\n",
    "    parents = graded[:retain_length]\n",
    "\n",
    "    # randomly add other individuals to promote genetic diversity\n",
    "    for individual in graded[retain_length:]:\n",
    "        if random_select > np.random.random():\n",
    "            parents.append(individual)\n",
    "\n",
    "    # mutate some individuals\n",
    "    for individual in parents:\n",
    "        if mutate > np.random.random():\n",
    "            pos_to_mutate = np.random.randint(0, len(individual)-1)\n",
    "            # this mutation is not ideal, because it\n",
    "            # restricts the range of possible values,\n",
    "            # but the function is unaware of the min/max\n",
    "            # values used to create the individuals,\n",
    "            individual[pos_to_mutate] = np.random.randint(0, max_item_possible[pos_to_mutate] + 1)\n",
    "\n",
    "    # crossover parents to create children\n",
    "    parents_length = len(parents)\n",
    "    desired_length = len(pop) - parents_length\n",
    "    children = []\n",
    "    \n",
    "    parents  = list(parents) # convert numpy array to list\n",
    "    \n",
    "    while len(children) < desired_length:\n",
    "        male = np.random.randint(0, parents_length-1)\n",
    "        female = np.random.randint(0, parents_length-1)\n",
    "        \n",
    "        if male != female:\n",
    "            male_individual = list(parents[male])\n",
    "            female_individual = list(parents[female])\n",
    "        \n",
    "            half = int(len(male_individual) / 2)\n",
    "            child = male_individual[:half] + female_individual[half:]\n",
    "            children.append(child)\n",
    "\n",
    "#     parents.extend(children)\n",
    "    return np.array(parents) # convert it back to numpy array"
   ]
  },
  {
   "cell_type": "code",
   "execution_count": 17,
   "metadata": {
    "collapsed": false
   },
   "outputs": [],
   "source": [
    "max_item_possible = [26, 3, 5, 25, 3, 10, 36, 11, 5]\n",
    "weight_constraint = 50\n",
    "modified_max_item_possible = list(map(np.floor, np.array(max_item_possible) / 5.))\n",
    "pop = population(100, modified_max_item_possible)\n",
    "mutated_population = mutate(pop.copy(), modified_max_item_possible)\n",
    "evolved_pop = evolve(pop.copy(), weight_constraint, \\\n",
    "                     modified_max_item_possible, retain=0.3,\\\n",
    "                     random_select=0.01, mutate=0.01)"
   ]
  },
  {
   "cell_type": "markdown",
   "metadata": {},
   "source": [
    "** Let's try to plot the estimated weights of the bags generated so far from this problem. **"
   ]
  },
  {
   "cell_type": "code",
   "execution_count": 18,
   "metadata": {
    "collapsed": false
   },
   "outputs": [
    {
     "data": {
      "image/png": "[encoded data removed]",
      "text/plain": [
       "<matplotlib.figure.Figure at 0x7feba84559e8>"
      ]
     },
     "metadata": {},
     "output_type": "display_data"
    }
   ],
   "source": [
    "perf = np.array(list(map(evaluate_bag, evolved_pop)))\n",
    "plt.scatter(np.arange(0, len(evolved_pop)), perf);"
   ]
  },
  {
   "cell_type": "markdown",
   "metadata": {},
   "source": [
    "** As we can see we are able to generate bags that have weights close to 35 most of the time.  Now we are able to create candidate solutions, now it is time to choose 1000 bags out of all possible solutions.**"
   ]
  },
  {
   "cell_type": "markdown",
   "metadata": {},
   "source": [
    "### Linear Programming\n",
    "\n",
    "```\n",
    "Linear programming (LP) (also called linear optimization) is a method to achieve the best outcome (such as maximum profit or lowest cost) in a mathematical model whose requirements are represented by linear relationships. Linear programming is a special case of mathematical programming (mathematical optimization).\n",
    "\n",
    "Linear programs are problems that can be expressed in canonical form as\n",
    "```\n",
    "\n",
    "\n",
    "<img src='https://wikimedia.org/api/rest_v1/media/math/render/svg/f5abfafd1199e99a37e01b9ce9ef49c5405ea72a'>\n",
    "\n",
    "In short we will try to choose 1000 bags out all possible bags such that all the hard constraints mentioned are satisfied and we are able to carry maximum possible weight. Here is the code that would solve this for you."
   ]
  },
  {
   "cell_type": "code",
   "execution_count": 19,
   "metadata": {
    "collapsed": true
   },
   "outputs": [],
   "source": [
    "def pack_linprog(bags, distributions, min_variance, max_bags=1000):\n",
    "    # objective: c.T * x -> min\n",
    "    c = - distributions[:,0] # optimize sum of expected bag utilities\n",
    "    \n",
    "    # constraint: A_ub * x <= b_ub\n",
    "    A_ub = bags.T # don't use more gifts than available\n",
    "    b_ub = np.array([num_gifts_available[gift] for gift in gift_types])\n",
    "    \n",
    "    A_ub = np.vstack([A_ub, np.ones(A_ub.shape[1])]) # pack at most max_bags gifts\n",
    "    b_ub = np.hstack([b_ub, [max_bags]])\n",
    "    \n",
    "    if min_variance is not None:\n",
    "        A_ub = np.vstack([A_ub, -distributions[:,1]]) # require minimum variance\n",
    "        b_ub = np.hstack([b_ub, [-min_variance]])\n",
    "    \n",
    "    result = sp.optimize.linprog(c, A_ub=A_ub, b_ub=b_ub)\n",
    "    if result[\"success\"] == False:\n",
    "        return [], True\n",
    "    else:\n",
    "        return result[\"x\"].astype('int64'), False\n",
    "\n",
    "\n",
    "def pack_bags(bags, distributions, min_variance=None):\n",
    "    max_bags = 1000\n",
    "    bag_quantities, infeasible = pack_linprog(bags, distributions, min_variance=min_variance)\n",
    "    while np.sum(bag_quantities) < 1000:\n",
    "        max_bags += 1\n",
    "        bag_quantities, infeasible = pack_linprog(bags, distributions, min_variance=min_variance, max_bags=max_bags)\n",
    "        if max_bags > 1015:\n",
    "            print(\"WARNING: not getting 1000 bags\")\n",
    "            break\n",
    "        if infeasible:\n",
    "            continue\n",
    "    \n",
    "    if infeasible:\n",
    "        print(\"infeasible\")\n",
    "        return [], [], []\n",
    "    \n",
    "    chosen_bag_idx = np.where(bag_quantities)[0]\n",
    "    chosen_bags = bags[chosen_bag_idx]\n",
    "    chosen_distributions = distributions[chosen_bag_idx]\n",
    "    chosen_quantities = bag_quantities[chosen_bag_idx]\n",
    "    \n",
    "    while np.sum(chosen_quantities) > 1000:\n",
    "        idx = np.random.randint(len(chosen_quantities))\n",
    "        chosen_quantities[idx] = max (chosen_quantities[idx]-1, 0)\n",
    "    \n",
    "    score_distribution = np.dot(chosen_quantities, chosen_distributions)\n",
    "    print(\"{} bags - score distribution: mean = {:.2f} | var = {:.2f}\"\n",
    "          .format(np.sum(chosen_quantities), score_distribution[0], score_distribution[1]))\n",
    "    \n",
    "    return chosen_bags, chosen_distributions, chosen_quantities"
   ]
  },
  {
   "cell_type": "markdown",
   "metadata": {},
   "source": [
    "** In ideal settings if you are able to generate bags which have an exact weight of 50 and then are able to fit 1000 bags, then maximum possible score you would get is 50,000. But there is one twist in this problem, each item has exact weight which we have no clue but our submission will be judged based on that score, so not only we will have to create bags that look well in the worst case, but need to somehow find out information about exact weights from the score that we get when we make a submission to the system, we can not make more than 3 submissions per day. So we will have to be clever enough to do it. Currently I am sitting at 204th position out of 704 competitors that took part in the competition with 3 more days to go. Wish me luck. **"
   ]
  },
  {
   "cell_type": "markdown",
   "metadata": {},
   "source": []
  }
 ],
 "metadata": {
  "kernelspec": {
   "display_name": "Python [Root]",
   "language": "python",
   "name": "Python [Root]"
  },
  "language_info": {
   "codemirror_mode": {
    "name": "ipython",
    "version": 3
   },
   "file_extension": ".py",
   "mimetype": "text/x-python",
   "name": "python",
   "nbconvert_exporter": "python",
   "pygments_lexer": "ipython3",
   "version": "3.5.2"
  },
  "nbpresent": {
   "slides": {
    "440d63db-5b06-4e2b-baa3-238f2a170cd2": {
     "id": "440d63db-5b06-4e2b-baa3-238f2a170cd2",
     "prev": "cfb14eca-bc8e-42cf-950c-cc77d1cfc11e",
     "regions": {
      "34ffff56-ed16-4edf-a316-ba0fa1708a71": {
       "attrs": {
        "height": 0.8,
        "width": 0.8,
        "x": 0.1,
        "y": 0.1
       },
       "content": {
        "cell": "f5e1cddc-ffab-4c70-a847-d24c2d21591b",
        "part": "whole"
       },
       "id": "34ffff56-ed16-4edf-a316-ba0fa1708a71"
      }
     }
    },
    "5ac6f0fd-c61d-4508-9966-f87fae54ab76": {
     "id": "5ac6f0fd-c61d-4508-9966-f87fae54ab76",
     "prev": "440d63db-5b06-4e2b-baa3-238f2a170cd2",
     "regions": {
      "4c36661d-2b09-451e-9126-8141c23a4d39": {
       "attrs": {
        "height": 0.8,
        "width": 0.8,
        "x": 0.1,
        "y": 0.1
       },
       "content": {
        "cell": "bc886543-64c1-44d7-b84b-22d6940b4fc1",
        "part": "whole"
       },
       "id": "4c36661d-2b09-451e-9126-8141c23a4d39"
      }
     }
    },
    "b46552a3-58cb-4481-bcd3-56cd42eb0627": {
     "id": "b46552a3-58cb-4481-bcd3-56cd42eb0627",
     "prev": "c0465085-540a-4462-a88c-7f6d48c22aa6",
     "regions": {
      "e906e88a-8df9-4a61-abef-36ad7d446b4f": {
       "attrs": {
        "height": 0.8,
        "width": 0.8,
        "x": 0.1,
        "y": 0.1
       },
       "content": {
        "cell": "828130b1-dbc5-49a6-b097-ba18060b46b5",
        "part": "whole"
       },
       "id": "e906e88a-8df9-4a61-abef-36ad7d446b4f"
      }
     }
    },
    "c0465085-540a-4462-a88c-7f6d48c22aa6": {
     "id": "c0465085-540a-4462-a88c-7f6d48c22aa6",
     "prev": "5ac6f0fd-c61d-4508-9966-f87fae54ab76",
     "regions": {
      "2f447c9b-dd34-4369-9f40-7bc97bc2d5b1": {
       "attrs": {
        "height": 0.8,
        "width": 0.8,
        "x": 0.1,
        "y": 0.1
       },
       "content": {
        "cell": "4749dc05-8827-4f9e-8437-ebc432715422",
        "part": "whole"
       },
       "id": "2f447c9b-dd34-4369-9f40-7bc97bc2d5b1"
      }
     }
    },
    "cfb14eca-bc8e-42cf-950c-cc77d1cfc11e": {
     "id": "cfb14eca-bc8e-42cf-950c-cc77d1cfc11e",
     "prev": "faa90437-a71c-40e8-aefd-d000c9d7efc7",
     "regions": {
      "753df57b-eb6e-43ab-9737-ae5fe83431dc": {
       "attrs": {
        "height": 0.8,
        "width": 0.8,
        "x": 0.1,
        "y": 0.1
       },
       "content": {
        "cell": "f2e5c71a-a348-4971-b6e0-2010a3d602c5",
        "part": "whole"
       },
       "id": "753df57b-eb6e-43ab-9737-ae5fe83431dc"
      }
     }
    },
    "faa90437-a71c-40e8-aefd-d000c9d7efc7": {
     "id": "faa90437-a71c-40e8-aefd-d000c9d7efc7",
     "prev": null,
     "regions": {
      "f175ef1a-6874-4e3b-b8d8-ab0f106f47c1": {
       "attrs": {
        "height": 0.8,
        "width": 0.8,
        "x": 0.09314874278769258,
        "y": 0.023711484896749273
       },
       "content": {
        "cell": "df9e1045-d316-4fab-86c8-146b18ca3643",
        "part": "whole"
       },
       "id": "f175ef1a-6874-4e3b-b8d8-ab0f106f47c1"
      }
     }
    }
   },
   "themes": {}
  }
 },
 "nbformat": 4,
 "nbformat_minor": 0
}
