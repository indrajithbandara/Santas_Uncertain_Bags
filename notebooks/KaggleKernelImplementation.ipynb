{
 "cells": [
  {
   "cell_type": "markdown",
   "metadata": {},
   "source": [
    "```\n",
    "This problem is a stochastic version of the knapsack problem. We know that much and we are having trouble generating candidate solutions.\n",
    "```"
   ]
  },
  {
   "cell_type": "code",
   "execution_count": 1,
   "metadata": {
    "collapsed": true
   },
   "outputs": [],
   "source": [
    "%matplotlib inline\n",
    "\n",
    "import pandas as pd\n",
    "import numpy as np\n",
    "import scipy as sp\n",
    "import math\n",
    "\n",
    "import matplotlib.pyplot as plt\n",
    "\n",
    "pd.set_option('display.max_columns', None)\n",
    "\n",
    "import seaborn as sns\n",
    "import warnings\n",
    "\n",
    "from sklearn.utils.extmath import cartesian\n",
    "from collections import defaultdict\n",
    "from itertools import product\n",
    "\n",
    "warnings.filterwarnings('ignore')\n",
    "\n",
    "np.random.seed(2017)\n",
    "\n",
    "%run ../src/santa_helper.py"
   ]
  },
  {
   "cell_type": "markdown",
   "metadata": {},
   "source": [
    "### Underlying probability distribution for each item"
   ]
  },
  {
   "cell_type": "code",
   "execution_count": 2,
   "metadata": {
    "collapsed": true
   },
   "outputs": [],
   "source": [
    "def sample_horse(size=1):\n",
    "    return np.maximum(0, np.random.normal(5,2,size))\n",
    "\n",
    "def sample_ball(size=1):\n",
    "    return np.maximum(0, 1 + np.random.normal(1,0.3,size))\n",
    "\n",
    "def sample_bike(size=1):\n",
    "    return np.maximum(0, np.random.normal(20,10,size))\n",
    "\n",
    "def sample_train(size=1):\n",
    "    return np.maximum(0, np.random.normal(10,5,size))\n",
    "\n",
    "def sample_coal(size=1):\n",
    "    return 47 * np.random.beta(0.5,0.5,size)\n",
    "\n",
    "def sample_book(size=1):\n",
    "    return np.random.chisquare(2,size)\n",
    "\n",
    "def sample_doll(size=1):\n",
    "    return np.random.gamma(5,1,size)\n",
    "\n",
    "def sample_block(size=1):\n",
    "    return np.random.triangular(5,10,20,size)\n",
    "\n",
    "def sample_gloves(size=1):\n",
    "    dist1 = 3.0 + np.random.rand(size)\n",
    "    dist2 = np.random.rand(size)\n",
    "    toggle = np.random.rand(size) < 0.3\n",
    "    dist2[toggle] = dist1[toggle]\n",
    "    return dist2\n",
    "\n",
    "samplers = {\n",
    "    \"horse\": sample_horse,\n",
    "    \"ball\": sample_ball,\n",
    "    \"bike\": sample_bike,\n",
    "    \"train\": sample_train,\n",
    "    \"coal\": sample_coal,\n",
    "    \"book\": sample_book,\n",
    "    \"doll\": sample_doll,\n",
    "    \"blocks\": sample_block,\n",
    "    \"gloves\": sample_gloves\n",
    "}\n",
    "\n",
    "def sample(gift_type, quantity=1, size=1):\n",
    "    \"\"\"\n",
    "    Use the sampling method for a gift type to generate samples\n",
    "    from the underlying distribution.\n",
    "    \n",
    "    Also takes quantity and size as the parameters which represent\n",
    "    how many iterations should we consider and what should be the sample size for each of\n",
    "    the iteration.\n",
    "    \"\"\"\n",
    "    return np.sum(samplers[gift_type](quantity * size).reshape(quantity, size), axis=0)"
   ]
  },
  {
   "cell_type": "markdown",
   "metadata": {},
   "source": [
    "** Now if we want to weight estimation of a bag containing 2 horses and we want to generate 10 samples **"
   ]
  },
  {
   "cell_type": "code",
   "execution_count": 3,
   "metadata": {
    "collapsed": false
   },
   "outputs": [
    {
     "name": "stdout",
     "output_type": "stream",
     "text": [
      "Estimation of weight of bag containing two horses: \n",
      "[  4.82637366   7.80104358   7.53720465  12.97055717   9.63975113\n",
      "   8.05202214   8.11415732   7.4164609    8.10915182   6.12412129]\n"
     ]
    }
   ],
   "source": [
    "print('Estimation of weight of bag containing two horses: \\n{}'.format(sample('horse', 2, 10)))"
   ]
  },
  {
   "cell_type": "code",
   "execution_count": 4,
   "metadata": {
    "collapsed": false
   },
   "outputs": [
    {
     "data": {
      "text/html": [
       "<div>\n",
       "<table border=\"1\" class=\"dataframe\">\n",
       "  <thead>\n",
       "    <tr style=\"text-align: right;\">\n",
       "      <th></th>\n",
       "      <th>GiftId</th>\n",
       "    </tr>\n",
       "  </thead>\n",
       "  <tbody>\n",
       "    <tr>\n",
       "      <th>0</th>\n",
       "      <td>horse_0</td>\n",
       "    </tr>\n",
       "    <tr>\n",
       "      <th>1</th>\n",
       "      <td>horse_1</td>\n",
       "    </tr>\n",
       "    <tr>\n",
       "      <th>2</th>\n",
       "      <td>horse_2</td>\n",
       "    </tr>\n",
       "    <tr>\n",
       "      <th>3</th>\n",
       "      <td>horse_3</td>\n",
       "    </tr>\n",
       "    <tr>\n",
       "      <th>4</th>\n",
       "      <td>horse_4</td>\n",
       "    </tr>\n",
       "  </tbody>\n",
       "</table>\n",
       "</div>"
      ],
      "text/plain": [
       "    GiftId\n",
       "0  horse_0\n",
       "1  horse_1\n",
       "2  horse_2\n",
       "3  horse_3\n",
       "4  horse_4"
      ]
     },
     "execution_count": 4,
     "metadata": {},
     "output_type": "execute_result"
    }
   ],
   "source": [
    "# load gift items\n",
    "gifts = pd.read_csv('../data/gifts.csv'); gifts.head()"
   ]
  },
  {
   "cell_type": "code",
   "execution_count": 5,
   "metadata": {
    "collapsed": false
   },
   "outputs": [],
   "source": [
    "gift_types_list   = parse_gift_type(gifts)\n",
    "gift_counts       = gift_types_list.value_counts()\n",
    "unique_gifts      = gift_counts.index.values"
   ]
  },
  {
   "cell_type": "code",
   "execution_count": 6,
   "metadata": {
    "collapsed": false
   },
   "outputs": [
    {
     "name": "stdout",
     "output_type": "stream",
     "text": [
      "Count for every item  [1200 1100 1000 1000 1000 1000  500  200  166]\n",
      "Number of items are available:  7166\n",
      "Unique items available to us are:  ['book' 'ball' 'train' 'horse' 'doll' 'blocks' 'bike' 'gloves' 'coal']\n"
     ]
    }
   ],
   "source": [
    "print('Count for every item ', gift_counts.values)\n",
    "print('Number of items are available: ', np.sum(gift_counts))\n",
    "print('Unique items available to us are: ', unique_gifts)"
   ]
  },
  {
   "cell_type": "markdown",
   "metadata": {},
   "source": [
    "** Search Space **"
   ]
  },
  {
   "cell_type": "code",
   "execution_count": 7,
   "metadata": {
    "collapsed": false
   },
   "outputs": [
    {
     "name": "stdout",
     "output_type": "stream",
     "text": [
      "Size of the search space  58.3490766638\n"
     ]
    }
   ],
   "source": [
    "print('Size of the search space ', np.sum(np.log(gift_counts.values)))"
   ]
  },
  {
   "cell_type": "markdown",
   "metadata": {},
   "source": [
    "Search space is around $e^{58}$ which means the space is huge and we would have to be clever enough to only conisder reasonable candidates."
   ]
  },
  {
   "cell_type": "code",
   "execution_count": 7,
   "metadata": {
    "collapsed": false
   },
   "outputs": [
    {
     "name": "stdout",
     "output_type": "stream",
     "text": [
      "Weight estimations for this bag ['ball(2)', 'horse(1)']: [ 11.07989868   9.0213798    6.85237687   8.19870475   4.59779781\n",
      "   9.15103981   6.0782703    7.41647187   9.25937581  10.54216101]\n"
     ]
    }
   ],
   "source": [
    "def bag_name(bag):\n",
    "    return str(list(map(lambda gift: \"{}({})\".format(gift, bag[gift]), sorted(bag.keys()))))\n",
    "\n",
    "def create_bag_weight_sampler(bag):\n",
    "    def bag_weight_sampler(size=1):\n",
    "        weight = np.array([0.0]*size)\n",
    "        for gift in sorted(bag.keys()):\n",
    "            weight += sample(gift, bag[gift], size)\n",
    "        return weight\n",
    "    return bag_weight_sampler, bag_name(bag)\n",
    "\n",
    "bag = { \"horse\": 1, \"ball\": 2 } # this defines that bag contains 1 horse and 2 balls\n",
    "bag_weight_sampler, name = create_bag_weight_sampler(bag)\n",
    "print(\"Weight estimations for this bag {}: {}\".format(name, bag_weight_sampler(10)))"
   ]
  },
  {
   "cell_type": "markdown",
   "metadata": {},
   "source": [
    "#### Plot weight estimates for each candidate ( bag )"
   ]
  },
  {
   "cell_type": "code",
   "execution_count": 9,
   "metadata": {
    "collapsed": false
   },
   "outputs": [
    {
     "name": "stdout",
     "output_type": "stream",
     "text": [
      "['book(1)', 'horse(2)']: mean=12.018761434887095 | std=3.5102605113772345\n",
      "['ball(2)', 'horse(1)']: mean=9.012789506289119 | std=2.0126845467460552\n",
      "['ball(1)']: mean=2.00202528020715 | std=0.3001094540729906\n",
      "['bike(1)']: mean=20.217204900956204 | std=9.780419611692931\n",
      "['train(1)']: mean=10.025292525807563 | std=4.895800470297536\n",
      "['coal(1)']: mean=23.323512994574067 | std=16.629852653604985\n",
      "['book(1)']: mean=1.9999589731772547 | std=1.9759229938903402\n",
      "['doll(1)']: mean=4.988727895119982 | std=2.2188089549268466\n",
      "['blocks(1)']: mean=11.677478388311739 | std=3.132245130041533\n",
      "['gloves(1)']: mean=1.40651167977616 | std=1.4075395121365537\n",
      "['bike(1)', 'coal(1)']: mean=43.7637325173457 | std=19.145095363064595\n",
      "['horse(2)', 'train(1)']: mean=20.116829758726492 | std=5.623154119073732\n"
     ]
    },
    {
     "data": {
      "image/png": "[encoded data removed]",
      "text/plain": [
       "<matplotlib.figure.Figure at 0x7f170af58f98>"
      ]
     },
     "metadata": {},
     "output_type": "display_data"
    }
   ],
   "source": [
    "def plot_bag_weight_distributions(bags, size=10000):\n",
    "    plot_distributions(bags, create_bag_weight_sampler, size=size)\n",
    "\n",
    "def plot_distributions(bags, sampler_builder, size=10000, fit=None):\n",
    "    num_plots = len(bags)\n",
    "    num_cols = int(round(math.sqrt(num_plots)))\n",
    "    num_rows = (num_plots // num_cols)\n",
    "    num_rows = num_rows if num_plots % num_cols == 0 else num_rows + 1\n",
    "    \n",
    "    f, axes = plt.subplots(num_rows, num_cols, figsize=(10, 8))\n",
    "    axes = axes.reshape(-1)\n",
    "    for i in range(num_plots):\n",
    "        current_bag = bags[i]\n",
    "        current_bag_sampler, current_bag_name = sampler_builder(current_bag)\n",
    "        current_sample = current_bag_sampler(size)\n",
    "        print(\"{}: mean={} | std={}\".format(current_bag_name, np.mean(current_sample), np.std(current_sample)))\n",
    "        current_axis = axes[i]\n",
    "#         sns.distplot(current_sample, ax=current_axis, fit=fit, kde=False)\n",
    "        # plot a boxplot\n",
    "        sns.boxplot(x=current_sample, ax=current_axis)\n",
    "        current_axis.set_title(current_bag_name)\n",
    "        current_axis.set_yticklabels([])\n",
    "    plt.tight_layout()\n",
    "    plt.show()\n",
    "    \n",
    "single_gift_bags = [\n",
    "    {\"horse\": 2, \"book\": 1},\n",
    "    {\"ball\": 2, \"horse\": 1},\n",
    "    {\"ball\": 1},\n",
    "    {\"bike\": 1},\n",
    "    {\"train\": 1},\n",
    "    {\"coal\": 1},\n",
    "    {\"book\": 1},\n",
    "    {\"doll\": 1},\n",
    "    {\"blocks\": 1},\n",
    "    {\"gloves\": 1},\n",
    "    {'bike':1, 'coal':1},\n",
    "    {'horse':2, 'train': 1}\n",
    "]\n",
    "\n",
    "plot_bag_weight_distributions(single_gift_bags)"
   ]
  },
  {
   "cell_type": "code",
   "execution_count": 9,
   "metadata": {
    "collapsed": true
   },
   "outputs": [],
   "source": [
    "example_bags = [\n",
    "    {'bike': 2, 'blocks': 2, 'book': 2, 'doll': 2, 'gloves': 2, 'horse': 2},\n",
    "#     {\"horse\": 1, \"ball\": 2},\n",
    "#     {\"train\": 3, \"bike\": 1},\n",
    "#     {\"coal\": 2, \"book\": 2},\n",
    "#     {\"gloves\": 12, \"book\": 12},\n",
    "]"
   ]
  },
  {
   "cell_type": "code",
   "execution_count": 10,
   "metadata": {
    "collapsed": false
   },
   "outputs": [
    {
     "name": "stdout",
     "output_type": "stream",
     "text": [
      "Sampling utility from bag ['bike(2)', 'blocks(2)', 'book(2)', 'doll(2)', 'gloves(2)', 'horse(2)']: [ 0.  0.  0.]\n",
      "\n"
     ]
    }
   ],
   "source": [
    "def plot_bag_utility_distributions(bags, size=10000):\n",
    "    plot_distributions(bags, create_bag_utility_sampler, size=size, fit=None)\n",
    "\n",
    "def create_bag_utility_sampler(bag):\n",
    "    bag_weight_sampler, bag_name = create_bag_weight_sampler(bag)\n",
    "    def bag_utility_sampler(size=1):\n",
    "        samples = bag_weight_sampler(size)\n",
    "        samples[samples > 50] = 0 # clip all those samples where weight > 50 ( dangerous )\n",
    "        return samples\n",
    "    return bag_utility_sampler, bag_name\n",
    "\n",
    "bag = { \"horse\": 2, \"ball\": 19 }\n",
    "bag_utility_sampler, name = create_bag_utility_sampler(example_bags[0])\n",
    "print(\"Sampling utility from bag {}: {}\\n\".format(name, bag_utility_sampler(3)))\n",
    "# plot_bag_utility_distributions(example_bags)"
   ]
  },
  {
   "cell_type": "code",
   "execution_count": 11,
   "metadata": {
    "collapsed": false
   },
   "outputs": [
    {
     "name": "stdout",
     "output_type": "stream",
     "text": [
      "Canonical gift order: ['ball', 'bike', 'blocks', 'book', 'coal', 'doll', 'gloves', 'horse', 'train']\n",
      "\n",
      "             mean        std\n",
      "ball     1.999359   0.301024\n",
      "bike    20.229937   9.782352\n",
      "blocks  11.613023   3.084284\n",
      "book     2.005699   2.018248\n",
      "coal    23.510956  16.646331\n",
      "doll     5.006272   2.244458\n",
      "gloves   1.414070   1.408373\n",
      "horse    5.008280   1.972852\n",
      "train   10.088743   4.904175\n"
     ]
    }
   ],
   "source": [
    "np.random.seed(42) # reset seed to make things reproducibe even if you fiddle around in the part above\n",
    "\n",
    "def get_gift_weight_distributions(gifts, size=10000):\n",
    "    def get_gift_weight_dsitribution(gift):\n",
    "        sampler = samplers[gift]\n",
    "        sample = sampler(size)\n",
    "        return np.mean(sample), np.std(sample) # return sample mean and sample variance\n",
    "    \n",
    "    distributions = np.zeros((len(gifts), 2)) # 2 columns one for mean and variance\n",
    "    for i, gift in enumerate(gifts):\n",
    "        distributions[i, :] = get_gift_weight_dsitribution(gift)\n",
    "    return distributions\n",
    "\n",
    "gift_types = sorted(samplers.keys())\n",
    "print(\"Canonical gift order: {}\\n\".format(gift_types))\n",
    "gift_weight_distributions = get_gift_weight_distributions(gift_types)\n",
    "print(pd.DataFrame(data=gift_weight_distributions, index=gift_types, columns=[\"mean\", \"std\"]))"
   ]
  },
  {
   "cell_type": "code",
   "execution_count": 12,
   "metadata": {
    "collapsed": false
   },
   "outputs": [
    {
     "name": "stdout",
     "output_type": "stream",
     "text": [
      "maximum quantities:\n",
      "[['ball' '26.0']\n",
      " ['bike' '3.0']\n",
      " ['blocks' '5.0']\n",
      " ['book' '25.0']\n",
      " ['coal' '3.0']\n",
      " ['doll' '10.0']\n",
      " ['gloves' '36.0']\n",
      " ['horse' '10.0']\n",
      " ['train' '5.0']]\n",
      "number of different bags: 526500000.0\n"
     ]
    }
   ],
   "source": [
    "def get_mixed_item_bags_max_quantities(upper_limit=None):\n",
    "    \"\"\"\n",
    "    Another shot at looking at possible combinations that we could try, since\n",
    "    we know that total weight carried by a bag cannot exceed 50 which means\n",
    "    that there is upper bound on quantity of items we could fit in a bag based on\n",
    "    the sample mean that we have already estimated.\n",
    "    \n",
    "    This is just one strategy to cut the search space we would have to think of much\n",
    "    clever strategy to cut through the search space.\n",
    "    \n",
    "    Notes: \n",
    "    1. This strategy returns 526500000 as the total number of different\n",
    "    candidates which must be considered.\n",
    "    2. Upper Bounds are calcualted based on the constraints which says that total weight cannot\n",
    "       exceed 50.\n",
    "    \"\"\"\n",
    "    max_quantities = np.ceil(50 / gift_weight_distributions[:, 0])\n",
    "    if upper_limit is not None:\n",
    "        max_quantities[max_quantities > upper_limit] = upper_limit\n",
    "    return max_quantities\n",
    "\n",
    "mixed_item_max_quantities = get_mixed_item_bags_max_quantities()\n",
    "print(\"maximum quantities:\\n{}\".format(np.dstack((np.array(gift_types), mixed_item_max_quantities)).squeeze()))\n",
    "print(\"number of different bags: {}\".format(np.prod(mixed_item_max_quantities)))"
   ]
  },
  {
   "cell_type": "code",
   "execution_count": 13,
   "metadata": {
    "collapsed": false
   },
   "outputs": [
    {
     "name": "stdout",
     "output_type": "stream",
     "text": [
      "maximum quantities:\n",
      "[['ball' '11.0']\n",
      " ['bike' '3.0']\n",
      " ['blocks' '5.0']\n",
      " ['book' '11.0']\n",
      " ['coal' '3.0']\n",
      " ['doll' '10.0']\n",
      " ['gloves' '11.0']\n",
      " ['horse' '10.0']\n",
      " ['train' '5.0']]\n",
      "number of different bags: 29947500.0\n"
     ]
    }
   ],
   "source": [
    "mixed_item_max_quantities = get_mixed_item_bags_max_quantities(11)\n",
    "print(\"maximum quantities:\\n{}\".format(np.dstack((np.array(gift_types), mixed_item_max_quantities)).squeeze()))\n",
    "print(\"number of different bags: {}\".format(np.prod(mixed_item_max_quantities)))"
   ]
  },
  {
   "cell_type": "code",
   "execution_count": 14,
   "metadata": {
    "collapsed": true
   },
   "outputs": [],
   "source": [
    "def create_candidate_bags(max_quantities):\n",
    "    \"\"\"\n",
    "    Define the search space\n",
    "    \"\"\"\n",
    "    gift_counts = []\n",
    "    for max_quantity in max_quantities:\n",
    "        gift_counts.append(np.arange(max_quantity))\n",
    "    return cartesian(gift_counts)"
   ]
  },
  {
   "cell_type": "code",
   "execution_count": 15,
   "metadata": {
    "collapsed": false
   },
   "outputs": [
    {
     "name": "stdout",
     "output_type": "stream",
     "text": [
      "Created candiadate bags: (29947500, 9)\n"
     ]
    }
   ],
   "source": [
    "mixed_item_candiadte_bags = create_candidate_bags(mixed_item_max_quantities)\n",
    "print(\"Created candiadate bags: {}\".format(mixed_item_candiadte_bags.shape))"
   ]
  },
  {
   "cell_type": "markdown",
   "metadata": {},
   "source": [
    "### How to generate good candidate bags ?\n",
    "\n",
    "Only consider those bags where weight less than 50 and greater than 30."
   ]
  },
  {
   "cell_type": "code",
   "execution_count": 16,
   "metadata": {
    "collapsed": false
   },
   "outputs": [
    {
     "name": "stdout",
     "output_type": "stream",
     "text": [
      "Candidate bags left: (58957, 9)\n"
     ]
    }
   ],
   "source": [
    "def get_bag_weight_distributions(candidate_bags, min_mean=30, max_mean=50):\n",
    "    return np.dot(candidate_bags, gift_weight_distributions)\n",
    "\n",
    "def filter_by_mean(bags, distributions, min_mean=30, max_mean=50):\n",
    "    min_mask = mean_of(distributions) > min_mean\n",
    "    distributions = distributions[min_mask]\n",
    "    bags = bags[min_mask]\n",
    "    max_mask = mean_of(distributions) < max_mean\n",
    "    distributions = distributions[max_mask]\n",
    "    bags = bags[max_mask]\n",
    "    return bags, distributions\n",
    "\n",
    "def mean_of(distributions):\n",
    "    return distributions[:,0]\n",
    "\n",
    "mixed_item_bag_weight_distributions = get_bag_weight_distributions(mixed_item_candiadte_bags)\n",
    "mixed_item_candiadte_bags, mixed_item_bag_weight_distributions = \\\n",
    "    filter_by_mean(mixed_item_candiadte_bags, mixed_item_bag_weight_distributions)\n",
    "print(\"Candidate bags left: {}\".format(mixed_item_candiadte_bags.shape))"
   ]
  },
  {
   "cell_type": "code",
   "execution_count": 17,
   "metadata": {
    "collapsed": false
   },
   "outputs": [
    {
     "name": "stdout",
     "output_type": "stream",
     "text": [
      "Gift ball: number of different bags: 10156250.0\n",
      "Gift book: number of different bags: 9765625.0\n",
      "Gift gloves: number of different bags: 14062500.0\n",
      "Total number of canidate bags: (82817, 9)\n"
     ]
    }
   ],
   "source": [
    "def get_low_weight_item_candidate_bags():\n",
    "    bags = []\n",
    "    distributions = []\n",
    "    for gift in [\"ball\", \"book\", \"gloves\"]:\n",
    "        max_quantities = get_low_weight_item_bags_max_quantities_for(gift)\n",
    "        candiadte_bags = create_candidate_bags(max_quantities)\n",
    "        bags.append(candiadte_bags)\n",
    "        cadidate_bag_weight_distributions = get_bag_weight_distributions(candiadte_bags)\n",
    "        distributions.append(cadidate_bag_weight_distributions)\n",
    "    return np.vstack(bags), np.vstack(distributions)\n",
    "        \n",
    "\n",
    "def get_low_weight_item_bags_max_quantities_for(gift):\n",
    "    max_quantities = np.ceil(50 / gift_weight_distributions[:, 0])\n",
    "    gift_index = gift_types.index(gift)\n",
    "    for i in range(len(max_quantities)):\n",
    "        if not i == gift_index:\n",
    "            max_quantities[i] = 5\n",
    "    print(\"Gift {}: number of different bags: {}\".format(gift, np.prod(max_quantities)))\n",
    "    return max_quantities\n",
    "\n",
    "low_weight_item_candidate_bags, low_weight_item_bag_weight_distributions = \\\n",
    "    filter_by_mean(*get_low_weight_item_candidate_bags())\n",
    "print(\"Total number of canidate bags: {}\".format(low_weight_item_candidate_bags.shape))"
   ]
  },
  {
   "cell_type": "code",
   "execution_count": 18,
   "metadata": {
    "collapsed": false
   },
   "outputs": [
    {
     "name": "stdout",
     "output_type": "stream",
     "text": [
      "Combined candiadte bags: (141774, 9)\n",
      "Final candidate bags without duplicates: (71071, 9)\n"
     ]
    }
   ],
   "source": [
    "def drop_duplicate(candidate_bags, distributions):\n",
    "    df = pd.DataFrame(data=np.hstack((candidate_bags, distributions)), columns=gift_types + [\"mean\", \"std\"])\n",
    "    df.drop_duplicates(subset=gift_types, inplace=True)\n",
    "    return df[gift_types].values, df[[\"mean\", \"std\"]].values\n",
    "\n",
    "candidate_bags = np.vstack([mixed_item_candiadte_bags, low_weight_item_candidate_bags])\n",
    "bag_weight_distributions = np.vstack([mixed_item_bag_weight_distributions, low_weight_item_bag_weight_distributions])\n",
    "print(\"Combined candiadte bags: {}\".format(candidate_bags.shape))\n",
    "candidate_bags, bag_weight_distributions = drop_duplicate(candidate_bags, bag_weight_distributions)\n",
    "print(\"Final candidate bags without duplicates: {}\".format(candidate_bags.shape))"
   ]
  },
  {
   "cell_type": "code",
   "execution_count": 19,
   "metadata": {
    "collapsed": false
   },
   "outputs": [
    {
     "name": "stdout",
     "output_type": "stream",
     "text": [
      "0.0000\n",
      "0.0985\n",
      "0.1970\n",
      "0.2955\n",
      "0.3940\n",
      "0.4925\n",
      "0.5910\n",
      "0.6895\n",
      "0.7879\n",
      "0.8864\n",
      "0.9849\n",
      "\n",
      "(71071, 2)\n"
     ]
    }
   ],
   "source": [
    "def get_bag_utility_distributions(candidate_bags):\n",
    "    distributions = []\n",
    "    size = len(candidate_bags)\n",
    "    for i, candidate_bag in enumerate(candidate_bags):\n",
    "        if i % 7000 == 0:\n",
    "            print(\"{:.4f}\\r\".format(float(i) / float(size)))\n",
    "        distributions.append(get_bag_utility_distribution(candidate_bag))\n",
    "    print(\"\")\n",
    "    return np.vstack(distributions)\n",
    "\n",
    "def get_bag_utility_distribution(candidate_bag):\n",
    "    bag = { gift_types[i]: int(candidate_bag[i]) for i in range(len(gift_types)) if candidate_bag[i] > 0 }\n",
    "    sampler, name = create_bag_utility_sampler(bag)\n",
    "    sample = sampler(10000)\n",
    "    return np.mean(sample), np.var(sample)\n",
    "\n",
    "bag_utility_distributions = get_bag_utility_distributions(candidate_bags)\n",
    "print(bag_utility_distributions.shape)"
   ]
  },
  {
   "cell_type": "code",
   "execution_count": 20,
   "metadata": {
    "collapsed": true
   },
   "outputs": [],
   "source": [
    "num_gifts_available = {\n",
    "    \"horse\": 1000,\n",
    "    \"ball\": 1100,\n",
    "    \"bike\": 500,\n",
    "    \"train\": 1000,\n",
    "    \"book\": 1200,\n",
    "    \"doll\": 1000,\n",
    "    \"blocks\": 1000,\n",
    "    \"gloves\": 200,\n",
    "    \"coal\": 166\n",
    "}"
   ]
  },
  {
   "cell_type": "code",
   "execution_count": 21,
   "metadata": {
    "collapsed": false
   },
   "outputs": [
    {
     "name": "stdout",
     "output_type": "stream",
     "text": [
      "1000 bags - score distribution: mean = 35573.17 | var = 104987.61\n"
     ]
    }
   ],
   "source": [
    "def pack_linprog(bags, distributions, min_variance, max_bags=1000):\n",
    "    # objective: c.T * x -> min\n",
    "    c = - distributions[:,0] # optimize sum of expected bag utilities\n",
    "    \n",
    "    # constraint: A_ub * x <= b_ub\n",
    "    A_ub = bags.T # don't use more gifts than available\n",
    "    b_ub = np.array([num_gifts_available[gift] for gift in gift_types])\n",
    "    \n",
    "    A_ub = np.vstack([A_ub, np.ones(A_ub.shape[1])]) # pack at most max_bags gifts\n",
    "    b_ub = np.hstack([b_ub, [max_bags]])\n",
    "    \n",
    "    if min_variance is not None:\n",
    "        A_ub = np.vstack([A_ub, -distributions[:,1]]) # require minimum variance\n",
    "        b_ub = np.hstack([b_ub, [-min_variance]])\n",
    "    \n",
    "    result = sp.optimize.linprog(c, A_ub=A_ub, b_ub=b_ub)\n",
    "    if result[\"success\"] == False:\n",
    "        return [], True\n",
    "    else:\n",
    "        return result[\"x\"].astype('int64'), False\n",
    "\n",
    "\n",
    "def pack_bags(bags, distributions, min_variance=None):\n",
    "    max_bags = 1000\n",
    "    bag_quantities, infeasible = pack_linprog(bags, distributions, min_variance=min_variance)\n",
    "    while np.sum(bag_quantities) < 1000:\n",
    "        max_bags += 1\n",
    "        bag_quantities, infeasible = pack_linprog(bags, distributions, min_variance=min_variance, max_bags=max_bags)\n",
    "        if max_bags > 1015:\n",
    "            print(\"WARNING: not getting 1000 bags\")\n",
    "            break\n",
    "        if infeasible:\n",
    "            continue\n",
    "    \n",
    "    if infeasible:\n",
    "        print(\"infeasible\")\n",
    "        return [], [], []\n",
    "    \n",
    "    chosen_bag_idx = np.where(bag_quantities)[0]\n",
    "    chosen_bags = bags[chosen_bag_idx]\n",
    "    chosen_distributions = distributions[chosen_bag_idx]\n",
    "    chosen_quantities = bag_quantities[chosen_bag_idx]\n",
    "    \n",
    "    while np.sum(chosen_quantities) > 1000:\n",
    "        idx = np.random.randint(len(chosen_quantities))\n",
    "        chosen_quantities[idx] = max (chosen_quantities[idx]-1, 0)\n",
    "    \n",
    "    score_distribution = np.dot(chosen_quantities, chosen_distributions)\n",
    "    print(\"{} bags - score distribution: mean = {:.2f} | var = {:.2f}\"\n",
    "          .format(np.sum(chosen_quantities), score_distribution[0], score_distribution[1]))\n",
    "    \n",
    "    return chosen_bags, chosen_distributions, chosen_quantities\n",
    "\n",
    "packed_bags, packed_distributions, packed_quantities \\\n",
    "    = pack_bags(candidate_bags, bag_utility_distributions, min_variance=None)"
   ]
  },
  {
   "cell_type": "code",
   "execution_count": 22,
   "metadata": {
    "collapsed": false
   },
   "outputs": [],
   "source": [
    "def create_submissions(bags, quantities, num_submissions=60):\n",
    "    def create_stock(n):\n",
    "        stock = { gift: list(map(lambda id: \"{}_{}\".format(gift, id) ,np.arange(num_gifts_available[gift]))) for gift in gift_types }\n",
    "        return shuffle(stock, n)\n",
    "    \n",
    "    def shuffle(stock, seed):\n",
    "        np.random.seed(seed)\n",
    "        for gift in stock.keys():\n",
    "            np.random.shuffle(stock[gift])\n",
    "        return stock\n",
    "    \n",
    "    def generate_submission(n):\n",
    "        stock = create_stock(n)\n",
    "        with open(\"../submissions/submission_{}.csv\".format(n), 'w+') as submission_file:\n",
    "            submission_file.write('Gifts\\n')\n",
    "            for i in range(len(bags)):\n",
    "                for quantity in range(quantities[i]):\n",
    "                    current_gifts = bags[i]\n",
    "                    for gift_idx, gift_quantity in enumerate(current_gifts[:len(gift_types)]):\n",
    "                        gift_name = gift_types[gift_idx]\n",
    "                        for j in range(int(gift_quantity)):\n",
    "                            submission_file.write(\"{} \".format(stock[gift_name].pop()))\n",
    "                    submission_file.write(\"\\n\")\n",
    "    \n",
    "    for n in range(num_submissions):\n",
    "        generate_submission(n)\n",
    "        \n",
    "create_submissions(packed_bags, packed_quantities)"
   ]
  },
  {
   "cell_type": "markdown",
   "metadata": {},
   "source": [
    "** Stochastic Optimization **\n",
    "\n",
    "Different components of the stochastic optimization:\n",
    "* Optimization/ Search\n",
    "    * Stochastic Simulator\n",
    "        * Sample Generator\n",
    "        * Simulation Output\n",
    "    * Search and compare"
   ]
  },
  {
   "cell_type": "code",
   "execution_count": 46,
   "metadata": {
    "collapsed": false
   },
   "outputs": [],
   "source": [
    "class Optimization:\n",
    "    \"\"\"\n",
    "    Optimization means exploring the search space in an efficient way so as to find the candidate\n",
    "    that would maximize the objective function.\n",
    "    \n",
    "    In stochastic optimization we need to have a method that when a given a candidate would\n",
    "    be able to perform simulations. Simulations would require samples which would be generated\n",
    "    by a sample generator and each sample needs to be evaluated for performance metric and that\n",
    "    will be the work of simulation output.\n",
    "    \n",
    "    For efficiently exploring different search space we would need to way to generate different\n",
    "    candidates for that we would try out different strategies.\n",
    "    \n",
    "    \"\"\"\n",
    "    class Stochastic_Simulator:\n",
    "        def __init__(self, candidate, gift_types, n_bags, sample_size):\n",
    "            self.candidate   = candidate\n",
    "            self.gift_types  = gift_types\n",
    "            self.n_bags      = n_bags\n",
    "            self.sample_size = sample_size\n",
    "            \n",
    "        def simulation_output(self):\n",
    "            \"\"\"\n",
    "            Given a candidate return back the utility of the candidate.\n",
    "            \n",
    "            Candidate: 2D numpy array that would hold the configuration of each of the\n",
    "                       individual bag. e.g. 2D array of size (2, 9) represent configuration\n",
    "                       of two bags.\n",
    "                       \n",
    "                       Each configuration contains the count of gift type that is included in\n",
    "                       the bag.\n",
    "            \"\"\"\n",
    "            \n",
    "            def get_estimate_weight_bag(bag):\n",
    "                \"\"\"\n",
    "                Parameter\n",
    "                ----------\n",
    "\n",
    "                bag         : List of count of different gift types.\n",
    "                \n",
    "                Return\n",
    "                ------\n",
    "\n",
    "                Estimated weight of the bag.\n",
    "                \"\"\"\n",
    "\n",
    "                candidate_bag = dict(list(zip(self.gift_types, bag)))\n",
    "                bag_utility_sampler, name = self.sample_generator(candidate_bag)\n",
    "                return bag_utility_sampler(self.sample_size)\n",
    "\n",
    "            def get_estimate_weight_bags(candidate):\n",
    "                estimators = np.zeros(shape=(len(candidate), 2)) # for mean and std\n",
    "                \n",
    "                for i in range(len(candidate)):\n",
    "                    bag_estimator    = get_estimate_weight_bag(candidate[i, :])\n",
    "                    estimators[i, 0] = estimators[i, 0] + bag_estimator.mean()\n",
    "                    estimators[i, 1] = estimators[i, 1] + bag_estimator.std()\n",
    "                    \n",
    "                return estimators\n",
    "            \n",
    "            estimated_weight_bags = get_estimate_weight_bags(self.candidate)\n",
    "            return estimated_weight_bags\n",
    "        \n",
    "        def create_bag_weight_sampler(self, bag):\n",
    "            def bag_name(bag):\n",
    "                return str(list(map(lambda gift: \"{}({})\".format(gift, bag[gift]), sorted(bag.keys()))))\n",
    "\n",
    "            def bag_weight_sampler(size=1):\n",
    "                weight = np.array([0.0]*size)\n",
    "                for gift in sorted(bag.keys()):\n",
    "                    weight += sample(gift, bag[gift], size)\n",
    "                return weight\n",
    "            \n",
    "            return bag_weight_sampler, bag_name(bag)\n",
    "\n",
    "        \n",
    "        def sample_generator(self, bag):\n",
    "            \"\"\"\n",
    "            Generate samples of weight for each of the gift item present in the bag.\n",
    "            \"\"\"\n",
    "            \n",
    "            bag_weight_sampler, bag_name = self.create_bag_weight_sampler(bag)\n",
    "            def bag_utility_sampler(size=1):\n",
    "                samples = bag_weight_sampler(size)\n",
    "                samples[samples > 50] = 0 # clip all those samples where weight > 50 ( dangerous )\n",
    "                return samples\n",
    "            \n",
    "            return bag_utility_sampler, bag_name\n",
    "    \n",
    "    class Candidate:\n",
    "        \"\"\"\n",
    "        Responsibility of this class is to generate candidate/ design.\n",
    "        \n",
    "        Constraint: Number of items in each bag must be greater than or equal to 3.\n",
    "        \n",
    "        \"\"\"\n",
    "        def __init__(self):\n",
    "            pass\n",
    "    \n",
    "    def __init__(self, objective_function, higher_is_better=True):\n",
    "        self.objective_function = objective_function\n",
    "        self.higher_is_better   = higher_is_better\n",
    "        \n",
    "    "
   ]
  },
  {
   "cell_type": "code",
   "execution_count": 133,
   "metadata": {
    "collapsed": true
   },
   "outputs": [],
   "source": [
    "def constraint_1(candidate, gift_counts):\n",
    "    \"\"\"\n",
    "    Sum of the all columns must be less than the total count of the gift type.\n",
    "    \"\"\"\n",
    "    return np.all(np.sum(candidate, axis=0) <= gift_counts)\n",
    "    \n",
    "def constraint_2(candidate):\n",
    "    \"\"\"\n",
    "    Sum of all the rows must be greater than or equal to 3.\n",
    "    \"\"\"\n",
    "    return np.all(np.sum(candidate, axis=1) >= 3)\n",
    "\n",
    "def candidate_creation(max_quantities, gift_counts):\n",
    "    candidates = []\n",
    "    \n",
    "    def create_potential_candidate():\n",
    "        return np.array([np.random.randint(low=0, high=2) \\\n",
    "                         for i in range(10 * 9)])\\\n",
    "                       .reshape(10, 9)\n",
    "    \n",
    "    while len(candidates) < 1: # moment we encounter a candidate break out of the loop\n",
    "        potentital_candidate = create_potential_candidate()\n",
    "        \n",
    "        if constraint_1(potentital_candidate, gift_counts) and constraint_2(potentital_candidate):\n",
    "            candidates.append(potentital_candidate)\n",
    "    \n",
    "    return candidates"
   ]
  },
  {
   "cell_type": "code",
   "execution_count": 134,
   "metadata": {
    "collapsed": false
   },
   "outputs": [
    {
     "data": {
      "text/plain": [
       "[array([[0, 1, 0, 1, 0, 1, 1, 1, 1],\n",
       "        [1, 0, 1, 0, 1, 0, 1, 1, 1],\n",
       "        [0, 0, 0, 0, 0, 0, 1, 1, 1],\n",
       "        [0, 1, 0, 0, 0, 1, 1, 1, 1],\n",
       "        [1, 0, 0, 1, 1, 1, 1, 1, 0],\n",
       "        [0, 1, 0, 1, 1, 0, 1, 0, 0],\n",
       "        [0, 0, 0, 1, 1, 0, 1, 0, 1],\n",
       "        [1, 1, 0, 0, 0, 1, 0, 0, 0],\n",
       "        [0, 1, 0, 1, 0, 1, 0, 0, 1],\n",
       "        [1, 1, 1, 0, 1, 1, 1, 0, 0]])]"
      ]
     },
     "execution_count": 134,
     "metadata": {},
     "output_type": "execute_result"
    }
   ],
   "source": [
    "candidate = candidate_creation(mixed_item_max_quantities, gift_counts.values)\n",
    "candidate"
   ]
  },
  {
   "cell_type": "code",
   "execution_count": 135,
   "metadata": {
    "collapsed": false
   },
   "outputs": [
    {
     "data": {
      "text/plain": [
       "array([ 211.41633978,  153.80849727])"
      ]
     },
     "execution_count": 135,
     "metadata": {},
     "output_type": "execute_result"
    }
   ],
   "source": [
    "optimization    = Optimization(None)\n",
    "stoch_simulator = optimization.Stochastic_Simulator(candidate[0], gift_types, 10, 10000)\n",
    "np.sum(stoch_simulator.simulation_output(), axis=0)"
   ]
  },
  {
   "cell_type": "markdown",
   "metadata": {},
   "source": [
    "### Linear Programming"
   ]
  },
  {
   "cell_type": "code",
   "execution_count": null,
   "metadata": {
    "collapsed": true
   },
   "outputs": [],
   "source": [
    "def estimate_weights(gift_types, quantity=1, sample_size=1):\n",
    "    return np.array([np.mean(sample(gift_type, quantity, sample_size)) for gift_type in gift_types])"
   ]
  },
  {
   "cell_type": "code",
   "execution_count": 378,
   "metadata": {
    "collapsed": false
   },
   "outputs": [],
   "source": [
    "def get_availability_vector(is_available):\n",
    "    return is_available * -1\n",
    "\n",
    "def calculate_availability(gift_counts):\n",
    "    return (gift_counts[gift_counts > 0] > 0)\n",
    "\n",
    "def fill_bag(weights, gift_counts, max_weight, min_items): \n",
    "    is_available = calculate_availability(gift_counts)\n",
    "    c = -weights[gift_counts > 0]\n",
    "    A = [weights[gift_counts > 0], get_availability_vector(is_available)]\n",
    "    b = [max_weight, -min_items]\n",
    "    \n",
    "    res = sp.optimize.linprog(c, A, b)\n",
    "    return res['x'].astype('int')\n",
    "\n",
    "def add_to_bag(gift_types, gift_counts, allocation):\n",
    "    allocation_index = 0\n",
    "    bag = []\n",
    "    \n",
    "    for i in range(len(gift_counts)):\n",
    "        if gift_counts[i] > 0:\n",
    "            if allocation[allocation_index] > 0:\n",
    "                amount_to_assign = min(gift_counts[i], allocation[allocation_index])\n",
    "                bag.append('{}_{}'\\\n",
    "                           .format(gift_types[i], str(amount_to_assign)))\n",
    "            allocation_index += 1\n",
    "    \n",
    "    return bag\n",
    "\n",
    "def fill_bags(n_bags, gift_counts, gift_types):\n",
    "    bags = []\n",
    "    weights = estimate_weights(gift_types, 1, 1e6)\n",
    "    \n",
    "    for i in range(n_bags):\n",
    "        allocation = fill_bag(weights, gift_counts, 50, 4)\n",
    "        bags.append(add_to_bag(gift_types, gift_counts, allocation))\n",
    "        gift_counts[gift_counts > 0] = gift_counts[gift_counts > 0] - allocation\n",
    "        \n",
    "    return bags"
   ]
  },
  {
   "cell_type": "code",
   "execution_count": 380,
   "metadata": {
    "collapsed": false
   },
   "outputs": [],
   "source": [
    "solution = fill_bags(1000, gift_counts.copy().values, unique_gifts)"
   ]
  },
  {
   "cell_type": "code",
   "execution_count": 381,
   "metadata": {
    "collapsed": true
   },
   "outputs": [],
   "source": [
    "def init_gift_type_count(gift_counts, seed=2017):\n",
    "    np.random.seed(seed)\n",
    "    gift_counter = {}\n",
    "    \n",
    "    for idx in gift_counts.index:\n",
    "        gift_counter[idx] = np.arange(0, gift_counts.ix[idx])\n",
    "        np.random.shuffle(gift_counter[idx])\n",
    "    \n",
    "    return gift_counter\n",
    "\n",
    "def numeric_to_text(solution, gift_counts):\n",
    "    solution_with_names = []\n",
    "    gift_counter = init_gift_type_count(gift_counts)\n",
    "    gift_type_count = defaultdict(int)\n",
    "    \n",
    "    for row in solution:\n",
    "        text = []\n",
    "        for sol in row:\n",
    "            gift_type, quantity = sol.split('_')\n",
    "            \n",
    "            for i in range(int(quantity)):\n",
    "                gift_index = gift_counter[gift_type][gift_type_count[gift_type]]\n",
    "                text.append('{}_{}'.format(gift_type, gift_index))\n",
    "                gift_type_count[gift_type] += 1\n",
    "        \n",
    "        solution_with_names.append(text)\n",
    "    \n",
    "    return solution_with_names"
   ]
  },
  {
   "cell_type": "code",
   "execution_count": 382,
   "metadata": {
    "collapsed": false
   },
   "outputs": [],
   "source": [
    "solution_with_names = numeric_to_text(solution, gift_counts)"
   ]
  },
  {
   "cell_type": "markdown",
   "metadata": {},
   "source": [
    "* Linear Progamming Solution                :    __23564.47097__ \n",
    "* Linear Programming Solution after shuffle :    __23550.14599__\n",
    "* Linear Programming Solution using mean weight estimation: __27933.34845__"
   ]
  },
  {
   "cell_type": "code",
   "execution_count": 384,
   "metadata": {
    "collapsed": false
   },
   "outputs": [],
   "source": [
    "prepare_solution('linear_prog_shuffled_mean_weights', solution_with_names)"
   ]
  },
  {
   "cell_type": "code",
   "execution_count": null,
   "metadata": {
    "collapsed": true
   },
   "outputs": [],
   "source": []
  }
 ],
 "metadata": {
  "anaconda-cloud": {},
  "kernelspec": {
   "display_name": "Python [Root]",
   "language": "python",
   "name": "Python [Root]"
  },
  "language_info": {
   "codemirror_mode": {
    "name": "ipython",
    "version": 3
   },
   "file_extension": ".py",
   "mimetype": "text/x-python",
   "name": "python",
   "nbconvert_exporter": "python",
   "pygments_lexer": "ipython3",
   "version": "3.5.2"
  }
 },
 "nbformat": 4,
 "nbformat_minor": 0
}
